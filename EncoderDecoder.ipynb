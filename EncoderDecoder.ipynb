{
 "cells": [
  {
   "cell_type": "code",
   "execution_count": 1,
   "metadata": {
    "execution": {
     "iopub.execute_input": "2022-11-22T08:18:18.840381Z",
     "iopub.status.busy": "2022-11-22T08:18:18.838896Z",
     "iopub.status.idle": "2022-11-22T08:18:22.109394Z",
     "shell.execute_reply": "2022-11-22T08:18:22.108553Z",
     "shell.execute_reply.started": "2022-11-22T08:18:18.840277Z"
    }
   },
   "outputs": [
    {
     "name": "stderr",
     "output_type": "stream",
     "text": [
      "2022-11-22 08:18:20.320043: W tensorflow/stream_executor/platform/default/dso_loader.cc:60] Could not load dynamic library 'libcudart.so.11.0'; dlerror: libcudart.so.11.0: cannot open shared object file: No such file or directory; LD_LIBRARY_PATH: /opt/conda/lib\n",
      "2022-11-22 08:18:20.320114: I tensorflow/stream_executor/cuda/cudart_stub.cc:29] Ignore above cudart dlerror if you do not have a GPU set up on your machine.\n"
     ]
    }
   ],
   "source": [
    "import os\n",
    "import re\n",
    "import pickle\n",
    "import string\n",
    "import unicodedata\n",
    "from random import randint\n",
    "\n",
    "import numpy as np\n",
    "import pandas as pd\n",
    "import seaborn as sns\n",
    "import matplotlib.pyplot as plt\n",
    "\n",
    "from nltk.corpus import stopwords\n",
    "from wordcloud import STOPWORDS, WordCloud\n",
    "\n",
    "from sklearn.model_selection import train_test_split\n",
    "\n",
    "import tensorflow as tf\n",
    "from tensorflow.keras import Input, Model\n",
    "from tensorflow.keras.preprocessing.text import Tokenizer\n",
    "from tensorflow.keras.preprocessing.sequence import pad_sequences\n",
    "from tensorflow.keras.callbacks import EarlyStopping, ReduceLROnPlateau\n",
    "from tensorflow.keras.layers import LSTM, Bidirectional, Dense, Embedding, TimeDistributed"
   ]
  },
  {
   "cell_type": "code",
   "execution_count": 2,
   "metadata": {
    "execution": {
     "iopub.execute_input": "2022-11-22T08:18:22.111340Z",
     "iopub.status.busy": "2022-11-22T08:18:22.110859Z",
     "iopub.status.idle": "2022-11-22T08:18:29.831065Z",
     "shell.execute_reply": "2022-11-22T08:18:29.829978Z",
     "shell.execute_reply.started": "2022-11-22T08:18:22.111308Z"
    }
   },
   "outputs": [
    {
     "name": "stdout",
     "output_type": "stream",
     "text": [
      "Requirement already satisfied: contractions in /opt/conda/lib/python3.7/site-packages (0.1.73)\n",
      "Requirement already satisfied: textsearch>=0.0.21 in /opt/conda/lib/python3.7/site-packages (from contractions) (0.0.24)\n",
      "Requirement already satisfied: pyahocorasick in /opt/conda/lib/python3.7/site-packages (from textsearch>=0.0.21->contractions) (1.4.4)\n",
      "Requirement already satisfied: anyascii in /opt/conda/lib/python3.7/site-packages (from textsearch>=0.0.21->contractions) (0.3.1)\n",
      "\u001b[33mWARNING: Running pip as the 'root' user can result in broken permissions and conflicting behaviour with the system package manager. It is recommended to use a virtual environment instead: https://pip.pypa.io/warnings/venv\u001b[0m\n",
      "Note: you may need to restart the kernel to use updated packages.\n"
     ]
    }
   ],
   "source": [
    "pip install contractions"
   ]
  },
  {
   "cell_type": "code",
   "execution_count": 3,
   "metadata": {
    "execution": {
     "iopub.execute_input": "2022-11-22T08:18:29.833255Z",
     "iopub.status.busy": "2022-11-22T08:18:29.832979Z",
     "iopub.status.idle": "2022-11-22T08:18:29.850869Z",
     "shell.execute_reply": "2022-11-22T08:18:29.850114Z",
     "shell.execute_reply.started": "2022-11-22T08:18:29.833222Z"
    }
   },
   "outputs": [
    {
     "name": "stdout",
     "output_type": "stream",
     "text": [
      "I'm == I am\n",
      "I'm'a == I am about to\n",
      "I'm'o == I am going to\n",
      "I've == I have\n",
      "I'll == I will\n",
      "I'll've == I will have\n",
      "I'd == I would\n",
      "I'd've == I would have\n",
      "Whatcha == What are you\n",
      "amn't == am not\n"
     ]
    }
   ],
   "source": [
    "from contractions import contractions_dict\n",
    "\n",
    "for key, value in list(contractions_dict.items())[:10]:\n",
    "    print(f'{key} == {value}')"
   ]
  },
  {
   "cell_type": "code",
   "execution_count": 4,
   "metadata": {
    "execution": {
     "iopub.execute_input": "2022-11-22T08:18:29.853445Z",
     "iopub.status.busy": "2022-11-22T08:18:29.853238Z",
     "iopub.status.idle": "2022-11-22T08:18:35.786444Z",
     "shell.execute_reply": "2022-11-22T08:18:35.785751Z",
     "shell.execute_reply.started": "2022-11-22T08:18:29.853420Z"
    }
   },
   "outputs": [
    {
     "name": "stderr",
     "output_type": "stream",
     "text": [
      "2022-11-22 08:18:29.855986: I tensorflow/compiler/jit/xla_cpu_device.cc:41] Not creating XLA devices, tf_xla_enable_xla_devices not set\n",
      "2022-11-22 08:18:29.856409: W tensorflow/stream_executor/platform/default/dso_loader.cc:60] Could not load dynamic library 'libcuda.so.1'; dlerror: libcuda.so.1: cannot open shared object file: No such file or directory; LD_LIBRARY_PATH: /opt/conda/lib\n",
      "2022-11-22 08:18:29.856448: W tensorflow/stream_executor/cuda/cuda_driver.cc:326] failed call to cuInit: UNKNOWN ERROR (303)\n",
      "2022-11-22 08:18:29.856483: I tensorflow/stream_executor/cuda/cuda_diagnostics.cc:156] kernel driver does not appear to be running on this host (62b2546606ac): /proc/driver/nvidia/version does not exist\n",
      "2022-11-22 08:18:29.857544: I tensorflow/core/platform/cpu_feature_guard.cc:142] This TensorFlow binary is optimized with oneAPI Deep Neural Network Library (oneDNN) to use the following CPU instructions in performance-critical operations:  AVX2 FMA\n",
      "To enable them in other operations, rebuild TensorFlow with the appropriate compiler flags.\n",
      "2022-11-22 08:18:29.858012: I tensorflow/compiler/jit/xla_gpu_device.cc:99] Not creating XLA devices, tf_xla_enable_xla_devices not set\n",
      "2022-11-22 08:18:29.864786: I tensorflow/core/distributed_runtime/rpc/grpc_channel.cc:301] Initialize GrpcChannelCache for job worker -> {0 -> 10.0.0.2:8470}\n",
      "2022-11-22 08:18:29.864815: I tensorflow/core/distributed_runtime/rpc/grpc_channel.cc:301] Initialize GrpcChannelCache for job localhost -> {0 -> localhost:30167}\n",
      "2022-11-22 08:18:29.880314: I tensorflow/core/distributed_runtime/rpc/grpc_channel.cc:301] Initialize GrpcChannelCache for job worker -> {0 -> 10.0.0.2:8470}\n",
      "2022-11-22 08:18:29.880343: I tensorflow/core/distributed_runtime/rpc/grpc_channel.cc:301] Initialize GrpcChannelCache for job localhost -> {0 -> localhost:30167}\n",
      "2022-11-22 08:18:29.880827: I tensorflow/core/distributed_runtime/rpc/grpc_server_lib.cc:411] Started server with target: grpc://localhost:30167\n"
     ]
    }
   ],
   "source": [
    "# Using TPU\n",
    "# detect and init the TPU\n",
    "tpu = tf.distribute.cluster_resolver.TPUClusterResolver()\n",
    "tf.config.experimental_connect_to_cluster(tpu)\n",
    "tf.tpu.experimental.initialize_tpu_system(tpu)\n",
    "\n",
    "# instantiate a distribution strategy\n",
    "tpu_strategy = tf.distribute.experimental.TPUStrategy(tpu)"
   ]
  },
  {
   "cell_type": "code",
   "execution_count": 5,
   "metadata": {
    "execution": {
     "iopub.execute_input": "2022-11-22T08:18:35.788349Z",
     "iopub.status.busy": "2022-11-22T08:18:35.787985Z",
     "iopub.status.idle": "2022-11-22T08:18:36.561969Z",
     "shell.execute_reply": "2022-11-22T08:18:36.561270Z",
     "shell.execute_reply.started": "2022-11-22T08:18:35.788309Z"
    }
   },
   "outputs": [],
   "source": [
    "filename1 = 'news_summary.csv'\n",
    "filename2 = 'news_summary_more.csv'\n",
    "\n",
    "df1 = pd.read_csv(filename1, encoding='iso-8859-1').reset_index(drop=True)\n",
    "df2 = pd.read_csv(filename2, encoding='iso-8859-1').reset_index(drop=True)"
   ]
  },
  {
   "cell_type": "code",
   "execution_count": 6,
   "metadata": {
    "execution": {
     "iopub.execute_input": "2022-11-22T08:18:36.563416Z",
     "iopub.status.busy": "2022-11-22T08:18:36.563174Z",
     "iopub.status.idle": "2022-11-22T08:18:36.583640Z",
     "shell.execute_reply": "2022-11-22T08:18:36.582761Z",
     "shell.execute_reply.started": "2022-11-22T08:18:36.563387Z"
    }
   },
   "outputs": [
    {
     "data": {
      "text/html": [
       "<div>\n",
       "<style scoped>\n",
       "    .dataframe tbody tr th:only-of-type {\n",
       "        vertical-align: middle;\n",
       "    }\n",
       "\n",
       "    .dataframe tbody tr th {\n",
       "        vertical-align: top;\n",
       "    }\n",
       "\n",
       "    .dataframe thead th {\n",
       "        text-align: right;\n",
       "    }\n",
       "</style>\n",
       "<table border=\"1\" class=\"dataframe\">\n",
       "  <thead>\n",
       "    <tr style=\"text-align: right;\">\n",
       "      <th></th>\n",
       "      <th>author</th>\n",
       "      <th>date</th>\n",
       "      <th>headlines</th>\n",
       "      <th>read_more</th>\n",
       "      <th>text</th>\n",
       "      <th>ctext</th>\n",
       "    </tr>\n",
       "  </thead>\n",
       "  <tbody>\n",
       "    <tr>\n",
       "      <th>1893</th>\n",
       "      <td>Chhavi Tyagi</td>\n",
       "      <td>26 Dec 2016,Monday</td>\n",
       "      <td>I don't recall receiving payment from Sahara: ...</td>\n",
       "      <td>http://indiatoday.intoday.in/story/sahara-diar...</td>\n",
       "      <td>After the Congress tweeted a list of Sahara Gr...</td>\n",
       "      <td>Embarrassed by her own party's tweet on Sahara...</td>\n",
       "    </tr>\n",
       "    <tr>\n",
       "      <th>1570</th>\n",
       "      <td>Saloni Tandon</td>\n",
       "      <td>15 Jan 2017,Sunday</td>\n",
       "      <td>B'desh keeper sets record for most catches by ...</td>\n",
       "      <td>http://indiatoday.intoday.in/story/imrul-kayes...</td>\n",
       "      <td>Bangladesh player Imrul Kayes set a world reco...</td>\n",
       "      <td>Imrul Kayes on Sunday became the first substit...</td>\n",
       "    </tr>\n",
       "    <tr>\n",
       "      <th>3197</th>\n",
       "      <td>Abhishek Bansal</td>\n",
       "      <td>29 May 2017,Monday</td>\n",
       "      <td>After defeating Kiwis, Kohli shares picture fr...</td>\n",
       "      <td>http://indiatoday.intoday.in/story/virat-kohli...</td>\n",
       "      <td>Indian captain Virat Kohli has shared a pictur...</td>\n",
       "      <td>The Indian team is enjoying their time in Engl...</td>\n",
       "    </tr>\n",
       "    <tr>\n",
       "      <th>2685</th>\n",
       "      <td>Vani Vivek</td>\n",
       "      <td>06 Jul 2017,Thursday</td>\n",
       "      <td>Several female Tesla employees claim harassmen...</td>\n",
       "      <td>https://www.theguardian.com/technology/2017/ju...</td>\n",
       "      <td>According to a report by The Guardian, several...</td>\n",
       "      <td>The theme for this year?s International Women?...</td>\n",
       "    </tr>\n",
       "    <tr>\n",
       "      <th>1565</th>\n",
       "      <td>Ankush Verma</td>\n",
       "      <td>16 Jan 2017,Monday</td>\n",
       "      <td>Obama declares January 16 as Religious Freedom...</td>\n",
       "      <td>http://indiatoday.intoday.in/story/president-b...</td>\n",
       "      <td>US President Barack Obama has declared January...</td>\n",
       "      <td>Continuing a yearly tradition, outgoing US Pre...</td>\n",
       "    </tr>\n",
       "  </tbody>\n",
       "</table>\n",
       "</div>"
      ],
      "text/plain": [
       "               author                  date  \\\n",
       "1893     Chhavi Tyagi    26 Dec 2016,Monday   \n",
       "1570    Saloni Tandon    15 Jan 2017,Sunday   \n",
       "3197  Abhishek Bansal    29 May 2017,Monday   \n",
       "2685       Vani Vivek  06 Jul 2017,Thursday   \n",
       "1565     Ankush Verma    16 Jan 2017,Monday   \n",
       "\n",
       "                                              headlines  \\\n",
       "1893  I don't recall receiving payment from Sahara: ...   \n",
       "1570  B'desh keeper sets record for most catches by ...   \n",
       "3197  After defeating Kiwis, Kohli shares picture fr...   \n",
       "2685  Several female Tesla employees claim harassmen...   \n",
       "1565  Obama declares January 16 as Religious Freedom...   \n",
       "\n",
       "                                              read_more  \\\n",
       "1893  http://indiatoday.intoday.in/story/sahara-diar...   \n",
       "1570  http://indiatoday.intoday.in/story/imrul-kayes...   \n",
       "3197  http://indiatoday.intoday.in/story/virat-kohli...   \n",
       "2685  https://www.theguardian.com/technology/2017/ju...   \n",
       "1565  http://indiatoday.intoday.in/story/president-b...   \n",
       "\n",
       "                                                   text  \\\n",
       "1893  After the Congress tweeted a list of Sahara Gr...   \n",
       "1570  Bangladesh player Imrul Kayes set a world reco...   \n",
       "3197  Indian captain Virat Kohli has shared a pictur...   \n",
       "2685  According to a report by The Guardian, several...   \n",
       "1565  US President Barack Obama has declared January...   \n",
       "\n",
       "                                                  ctext  \n",
       "1893  Embarrassed by her own party's tweet on Sahara...  \n",
       "1570  Imrul Kayes on Sunday became the first substit...  \n",
       "3197  The Indian team is enjoying their time in Engl...  \n",
       "2685  The theme for this year?s International Women?...  \n",
       "1565  Continuing a yearly tradition, outgoing US Pre...  "
      ]
     },
     "execution_count": 6,
     "metadata": {},
     "output_type": "execute_result"
    }
   ],
   "source": [
    "df1.sample(5)"
   ]
  },
  {
   "cell_type": "code",
   "execution_count": 7,
   "metadata": {
    "execution": {
     "iopub.execute_input": "2022-11-22T08:18:36.585610Z",
     "iopub.status.busy": "2022-11-22T08:18:36.585015Z",
     "iopub.status.idle": "2022-11-22T08:18:36.596372Z",
     "shell.execute_reply": "2022-11-22T08:18:36.595846Z",
     "shell.execute_reply.started": "2022-11-22T08:18:36.585567Z"
    }
   },
   "outputs": [
    {
     "data": {
      "text/html": [
       "<div>\n",
       "<style scoped>\n",
       "    .dataframe tbody tr th:only-of-type {\n",
       "        vertical-align: middle;\n",
       "    }\n",
       "\n",
       "    .dataframe tbody tr th {\n",
       "        vertical-align: top;\n",
       "    }\n",
       "\n",
       "    .dataframe thead th {\n",
       "        text-align: right;\n",
       "    }\n",
       "</style>\n",
       "<table border=\"1\" class=\"dataframe\">\n",
       "  <thead>\n",
       "    <tr style=\"text-align: right;\">\n",
       "      <th></th>\n",
       "      <th>headlines</th>\n",
       "      <th>text</th>\n",
       "    </tr>\n",
       "  </thead>\n",
       "  <tbody>\n",
       "    <tr>\n",
       "      <th>64077</th>\n",
       "      <td>Pharrell Williams invests in UK-based music st...</td>\n",
       "      <td>UK-based music startup Roli on Wednesday annou...</td>\n",
       "    </tr>\n",
       "    <tr>\n",
       "      <th>74510</th>\n",
       "      <td>Indian-origin actress hid in freezer during Ba...</td>\n",
       "      <td>Laila Rouass, an Indian-origin television actr...</td>\n",
       "    </tr>\n",
       "    <tr>\n",
       "      <th>81223</th>\n",
       "      <td>Honour people who murdered cow killer: Swami P...</td>\n",
       "      <td>A video of Chhattisgarh's Sanskrit Board Chair...</td>\n",
       "    </tr>\n",
       "    <tr>\n",
       "      <th>17504</th>\n",
       "      <td>'Googley' doesn't mean 'young': Google in age-...</td>\n",
       "      <td>Refuting the claims made in a lawsuit accusing...</td>\n",
       "    </tr>\n",
       "    <tr>\n",
       "      <th>725</th>\n",
       "      <td>Gambhir, Chhetri among 9 sports personalities ...</td>\n",
       "      <td>As many as nine sports personalities have been...</td>\n",
       "    </tr>\n",
       "  </tbody>\n",
       "</table>\n",
       "</div>"
      ],
      "text/plain": [
       "                                               headlines  \\\n",
       "64077  Pharrell Williams invests in UK-based music st...   \n",
       "74510  Indian-origin actress hid in freezer during Ba...   \n",
       "81223  Honour people who murdered cow killer: Swami P...   \n",
       "17504  'Googley' doesn't mean 'young': Google in age-...   \n",
       "725    Gambhir, Chhetri among 9 sports personalities ...   \n",
       "\n",
       "                                                    text  \n",
       "64077  UK-based music startup Roli on Wednesday annou...  \n",
       "74510  Laila Rouass, an Indian-origin television actr...  \n",
       "81223  A video of Chhattisgarh's Sanskrit Board Chair...  \n",
       "17504  Refuting the claims made in a lawsuit accusing...  \n",
       "725    As many as nine sports personalities have been...  "
      ]
     },
     "execution_count": 7,
     "metadata": {},
     "output_type": "execute_result"
    }
   ],
   "source": [
    "df2.sample(5)"
   ]
  },
  {
   "cell_type": "code",
   "execution_count": 8,
   "metadata": {
    "execution": {
     "iopub.execute_input": "2022-11-22T08:18:36.597839Z",
     "iopub.status.busy": "2022-11-22T08:18:36.597199Z",
     "iopub.status.idle": "2022-11-22T08:18:36.649784Z",
     "shell.execute_reply": "2022-11-22T08:18:36.648956Z",
     "shell.execute_reply.started": "2022-11-22T08:18:36.597811Z"
    }
   },
   "outputs": [
    {
     "name": "stdout",
     "output_type": "stream",
     "text": [
      "Dataset size: 102915\n"
     ]
    },
    {
     "data": {
      "text/html": [
       "<div>\n",
       "<style scoped>\n",
       "    .dataframe tbody tr th:only-of-type {\n",
       "        vertical-align: middle;\n",
       "    }\n",
       "\n",
       "    .dataframe tbody tr th {\n",
       "        vertical-align: top;\n",
       "    }\n",
       "\n",
       "    .dataframe thead th {\n",
       "        text-align: right;\n",
       "    }\n",
       "</style>\n",
       "<table border=\"1\" class=\"dataframe\">\n",
       "  <thead>\n",
       "    <tr style=\"text-align: right;\">\n",
       "      <th></th>\n",
       "      <th>headlines</th>\n",
       "      <th>text</th>\n",
       "    </tr>\n",
       "  </thead>\n",
       "  <tbody>\n",
       "    <tr>\n",
       "      <th>32135</th>\n",
       "      <td>PNB denies data breach of 10,000 cardholders</td>\n",
       "      <td>India's second-largest public sector lender Pu...</td>\n",
       "    </tr>\n",
       "    <tr>\n",
       "      <th>7936</th>\n",
       "      <td>Juveniles to not be lodged in police lockups i...</td>\n",
       "      <td>Juvenile offenders, including stone-pelters, w...</td>\n",
       "    </tr>\n",
       "    <tr>\n",
       "      <th>37710</th>\n",
       "      <td>Where's Babu Bhaiya: Arjun Kapoor on pic of Ak...</td>\n",
       "      <td>Arjun Kapoor, while commenting on Akshay Kumar...</td>\n",
       "    </tr>\n",
       "    <tr>\n",
       "      <th>23233</th>\n",
       "      <td>Biggest load of cow dung: Shastri on reports o...</td>\n",
       "      <td>Team India head coach Ravi Shastri has dismiss...</td>\n",
       "    </tr>\n",
       "    <tr>\n",
       "      <th>68211</th>\n",
       "      <td>India will be $6 trillion economy in 10 yrs: M...</td>\n",
       "      <td>According to a report by global brokerage Morg...</td>\n",
       "    </tr>\n",
       "  </tbody>\n",
       "</table>\n",
       "</div>"
      ],
      "text/plain": [
       "                                               headlines  \\\n",
       "32135       PNB denies data breach of 10,000 cardholders   \n",
       "7936   Juveniles to not be lodged in police lockups i...   \n",
       "37710  Where's Babu Bhaiya: Arjun Kapoor on pic of Ak...   \n",
       "23233  Biggest load of cow dung: Shastri on reports o...   \n",
       "68211  India will be $6 trillion economy in 10 yrs: M...   \n",
       "\n",
       "                                                    text  \n",
       "32135  India's second-largest public sector lender Pu...  \n",
       "7936   Juvenile offenders, including stone-pelters, w...  \n",
       "37710  Arjun Kapoor, while commenting on Akshay Kumar...  \n",
       "23233  Team India head coach Ravi Shastri has dismiss...  \n",
       "68211  According to a report by global brokerage Morg...  "
      ]
     },
     "execution_count": 8,
     "metadata": {},
     "output_type": "execute_result"
    }
   ],
   "source": [
    "df1_columns = df1.columns.tolist()\n",
    "df1_columns.remove('headlines')\n",
    "df1_columns.remove('text')\n",
    "df1.drop(df1_columns, axis='columns', inplace=True)\n",
    "\n",
    "df = pd.concat([df1, df2], axis='rows')\n",
    "del df1, df2\n",
    "\n",
    "# Shuffling the df\n",
    "df = df.sample(frac=1).reset_index(drop=True)\n",
    "\n",
    "print(f'Dataset size: {len(df)}')\n",
    "df.sample(5)"
   ]
  },
  {
   "cell_type": "code",
   "execution_count": 9,
   "metadata": {
    "execution": {
     "iopub.execute_input": "2022-11-22T08:18:36.651693Z",
     "iopub.status.busy": "2022-11-22T08:18:36.651093Z",
     "iopub.status.idle": "2022-11-22T08:18:36.670186Z",
     "shell.execute_reply": "2022-11-22T08:18:36.669021Z",
     "shell.execute_reply.started": "2022-11-22T08:18:36.651651Z"
    }
   },
   "outputs": [
    {
     "data": {
      "text/plain": [
       "'you all cannot expand contractions id think'"
      ]
     },
     "execution_count": 9,
     "metadata": {},
     "output_type": "execute_result"
    }
   ],
   "source": [
    "def expand_contractions(text, contraction_map=contractions_dict):\n",
    "    # Using regex for getting all contracted words\n",
    "    contractions_keys = '|'.join(contraction_map.keys())\n",
    "    contractions_pattern = re.compile(f'({contractions_keys})', flags=re.DOTALL)\n",
    "\n",
    "    def expand_match(contraction):\n",
    "        # Getting entire matched sub-string\n",
    "        match = contraction.group(0)\n",
    "        expanded_contraction = contraction_map.get(match)\n",
    "        if not expand_contractions:\n",
    "            print(match)\n",
    "            return match\n",
    "        return expanded_contraction\n",
    "\n",
    "    expanded_text = contractions_pattern.sub(expand_match, text)\n",
    "    expanded_text = re.sub(\"'\", \"\", expanded_text)\n",
    "    return expanded_text\n",
    "\n",
    "\n",
    "expand_contractions(\"y'all can't expand contractions i'd think\")"
   ]
  },
  {
   "cell_type": "code",
   "execution_count": 10,
   "metadata": {
    "execution": {
     "iopub.execute_input": "2022-11-22T08:18:36.671751Z",
     "iopub.status.busy": "2022-11-22T08:18:36.671493Z",
     "iopub.status.idle": "2022-11-22T08:18:36.887045Z",
     "shell.execute_reply": "2022-11-22T08:18:36.886227Z",
     "shell.execute_reply.started": "2022-11-22T08:18:36.671722Z"
    }
   },
   "outputs": [
    {
     "data": {
      "text/html": [
       "<div>\n",
       "<style scoped>\n",
       "    .dataframe tbody tr th:only-of-type {\n",
       "        vertical-align: middle;\n",
       "    }\n",
       "\n",
       "    .dataframe tbody tr th {\n",
       "        vertical-align: top;\n",
       "    }\n",
       "\n",
       "    .dataframe thead th {\n",
       "        text-align: right;\n",
       "    }\n",
       "</style>\n",
       "<table border=\"1\" class=\"dataframe\">\n",
       "  <thead>\n",
       "    <tr style=\"text-align: right;\">\n",
       "      <th></th>\n",
       "      <th>headlines</th>\n",
       "      <th>text</th>\n",
       "    </tr>\n",
       "  </thead>\n",
       "  <tbody>\n",
       "    <tr>\n",
       "      <th>74880</th>\n",
       "      <td>over 200 people questioned over delhi mass sui...</td>\n",
       "      <td>more than 200 people have been questioned in c...</td>\n",
       "    </tr>\n",
       "    <tr>\n",
       "      <th>47653</th>\n",
       "      <td>four crpf jawans killed by another jawan in ch...</td>\n",
       "      <td>four crpf jawans were killed and another was i...</td>\n",
       "    </tr>\n",
       "    <tr>\n",
       "      <th>9298</th>\n",
       "      <td>delhi woman's earlobes get torn as thief pulls...</td>\n",
       "      <td>a 47-year-old woman's earlobes got torn after ...</td>\n",
       "    </tr>\n",
       "    <tr>\n",
       "      <th>32509</th>\n",
       "      <td>ensure children not hurt during muharram: bomb...</td>\n",
       "      <td>the bombay high court on monday directed the p...</td>\n",
       "    </tr>\n",
       "    <tr>\n",
       "      <th>4959</th>\n",
       "      <td>only 100 firms account for 71% of global emiss...</td>\n",
       "      <td>just 100 companies have been the source of 71%...</td>\n",
       "    </tr>\n",
       "  </tbody>\n",
       "</table>\n",
       "</div>"
      ],
      "text/plain": [
       "                                               headlines  \\\n",
       "74880  over 200 people questioned over delhi mass sui...   \n",
       "47653  four crpf jawans killed by another jawan in ch...   \n",
       "9298   delhi woman's earlobes get torn as thief pulls...   \n",
       "32509  ensure children not hurt during muharram: bomb...   \n",
       "4959   only 100 firms account for 71% of global emiss...   \n",
       "\n",
       "                                                    text  \n",
       "74880  more than 200 people have been questioned in c...  \n",
       "47653  four crpf jawans were killed and another was i...  \n",
       "9298   a 47-year-old woman's earlobes got torn after ...  \n",
       "32509  the bombay high court on monday directed the p...  \n",
       "4959   just 100 companies have been the source of 71%...  "
      ]
     },
     "execution_count": 10,
     "metadata": {},
     "output_type": "execute_result"
    }
   ],
   "source": [
    "# Converting to lowercase\n",
    "df.text = df.text.apply(str.lower)\n",
    "df.headlines = df.headlines.apply(str.lower)\n",
    "\n",
    "df.sample(5)"
   ]
  },
  {
   "cell_type": "code",
   "execution_count": 11,
   "metadata": {
    "execution": {
     "iopub.execute_input": "2022-11-22T08:18:36.888762Z",
     "iopub.status.busy": "2022-11-22T08:18:36.888384Z",
     "iopub.status.idle": "2022-11-22T08:19:23.354647Z",
     "shell.execute_reply": "2022-11-22T08:19:23.353663Z",
     "shell.execute_reply.started": "2022-11-22T08:18:36.888723Z"
    }
   },
   "outputs": [
    {
     "data": {
      "text/html": [
       "<div>\n",
       "<style scoped>\n",
       "    .dataframe tbody tr th:only-of-type {\n",
       "        vertical-align: middle;\n",
       "    }\n",
       "\n",
       "    .dataframe tbody tr th {\n",
       "        vertical-align: top;\n",
       "    }\n",
       "\n",
       "    .dataframe thead th {\n",
       "        text-align: right;\n",
       "    }\n",
       "</style>\n",
       "<table border=\"1\" class=\"dataframe\">\n",
       "  <thead>\n",
       "    <tr style=\"text-align: right;\">\n",
       "      <th></th>\n",
       "      <th>headlines</th>\n",
       "      <th>text</th>\n",
       "    </tr>\n",
       "  </thead>\n",
       "  <tbody>\n",
       "    <tr>\n",
       "      <th>64509</th>\n",
       "      <td>gst network receives 10,000 calls per day, say...</td>\n",
       "      <td>following the gst rollout, the gst network has...</td>\n",
       "    </tr>\n",
       "    <tr>\n",
       "      <th>27609</th>\n",
       "      <td>indian-origin policemans suspected killer arre...</td>\n",
       "      <td>authorities have arrested the suspect who fata...</td>\n",
       "    </tr>\n",
       "    <tr>\n",
       "      <th>26610</th>\n",
       "      <td>hindu outfit leader shot dead in broad dayligh...</td>\n",
       "      <td>hindu sangharsh sena district president vipan ...</td>\n",
       "    </tr>\n",
       "    <tr>\n",
       "      <th>9078</th>\n",
       "      <td>farmers do shavasana on highway on intl yoga d...</td>\n",
       "      <td>farmers across north india performed the shava...</td>\n",
       "    </tr>\n",
       "    <tr>\n",
       "      <th>100583</th>\n",
       "      <td>player wins tournament after initially failing...</td>\n",
       "      <td>world number 59 tennis player o cecchinato won...</td>\n",
       "    </tr>\n",
       "  </tbody>\n",
       "</table>\n",
       "</div>"
      ],
      "text/plain": [
       "                                                headlines  \\\n",
       "64509   gst network receives 10,000 calls per day, say...   \n",
       "27609   indian-origin policemans suspected killer arre...   \n",
       "26610   hindu outfit leader shot dead in broad dayligh...   \n",
       "9078    farmers do shavasana on highway on intl yoga d...   \n",
       "100583  player wins tournament after initially failing...   \n",
       "\n",
       "                                                     text  \n",
       "64509   following the gst rollout, the gst network has...  \n",
       "27609   authorities have arrested the suspect who fata...  \n",
       "26610   hindu sangharsh sena district president vipan ...  \n",
       "9078    farmers across north india performed the shava...  \n",
       "100583  world number 59 tennis player o cecchinato won...  "
      ]
     },
     "execution_count": 11,
     "metadata": {},
     "output_type": "execute_result"
    }
   ],
   "source": [
    "df.headlines = df.headlines.apply(expand_contractions)\n",
    "df.text = df.text.apply(expand_contractions)\n",
    "df.sample(5)"
   ]
  },
  {
   "cell_type": "code",
   "execution_count": 12,
   "metadata": {
    "execution": {
     "iopub.execute_input": "2022-11-22T08:19:23.356662Z",
     "iopub.status.busy": "2022-11-22T08:19:23.356438Z",
     "iopub.status.idle": "2022-11-22T08:19:23.363807Z",
     "shell.execute_reply": "2022-11-22T08:19:23.363003Z",
     "shell.execute_reply.started": "2022-11-22T08:19:23.356636Z"
    }
   },
   "outputs": [
    {
     "name": "stdout",
     "output_type": "stream",
     "text": [
      "cool\n",
      "Frankly my dear I dont give a damn\n"
     ]
    }
   ],
   "source": [
    "# Remove puncuation from word\n",
    "def rm_punc_from_word(word):\n",
    "    clean_alphabet_list = [\n",
    "        alphabet for alphabet in word if alphabet not in string.punctuation\n",
    "    ]\n",
    "    return ''.join(clean_alphabet_list)\n",
    "\n",
    "print(rm_punc_from_word('#cool!'))\n",
    "\n",
    "\n",
    "# Remove puncuation from text\n",
    "def rm_punc_from_text(text):\n",
    "    clean_word_list = [rm_punc_from_word(word) for word in text]\n",
    "    return ''.join(clean_word_list)\n",
    "\n",
    "print(rm_punc_from_text(\"Frankly, my dear, I don't give a damn\"))"
   ]
  },
  {
   "cell_type": "code",
   "execution_count": 13,
   "metadata": {
    "execution": {
     "iopub.execute_input": "2022-11-22T08:19:23.367468Z",
     "iopub.status.busy": "2022-11-22T08:19:23.367232Z",
     "iopub.status.idle": "2022-11-22T08:19:23.379174Z",
     "shell.execute_reply": "2022-11-22T08:19:23.378417Z",
     "shell.execute_reply.started": "2022-11-22T08:19:23.367442Z"
    }
   },
   "outputs": [
    {
     "name": "stdout",
     "output_type": "stream",
     "text": [
      "You are times more sexier than me\n",
      "If you taught yes then you are times more delusional than me\n"
     ]
    }
   ],
   "source": [
    "# Remove numbers from text\n",
    "def rm_number_from_text(text):\n",
    "    text = re.sub('[0-9]+', '', text)\n",
    "    return ' '.join(text.split())  # to rm `extra` white space\n",
    "\n",
    "print(rm_number_from_text('You are 100times more sexier than me'))\n",
    "print(rm_number_from_text('If you taught yes then you are 10 times more delusional than me'))"
   ]
  },
  {
   "cell_type": "code",
   "execution_count": 14,
   "metadata": {
    "execution": {
     "iopub.execute_input": "2022-11-22T08:19:23.381114Z",
     "iopub.status.busy": "2022-11-22T08:19:23.380789Z",
     "iopub.status.idle": "2022-11-22T08:19:23.393694Z",
     "shell.execute_reply": "2022-11-22T08:19:23.392506Z",
     "shell.execute_reply.started": "2022-11-22T08:19:23.381076Z"
    }
   },
   "outputs": [
    {
     "data": {
      "text/plain": [
       "'Love means never say sorry'"
      ]
     },
     "execution_count": 14,
     "metadata": {},
     "output_type": "execute_result"
    }
   ],
   "source": [
    "# Remove stopwords from text\n",
    "def rm_stopwords_from_text(text):\n",
    "    _stopwords = stopwords.words('english')\n",
    "    text = text.split()\n",
    "    word_list = [word for word in text if word not in _stopwords]\n",
    "    return ' '.join(word_list)\n",
    "\n",
    "rm_stopwords_from_text(\"Love means never having to say you're sorry\")"
   ]
  },
  {
   "cell_type": "code",
   "execution_count": 15,
   "metadata": {
    "execution": {
     "iopub.execute_input": "2022-11-22T08:19:23.397761Z",
     "iopub.status.busy": "2022-11-22T08:19:23.397454Z",
     "iopub.status.idle": "2022-11-22T08:19:23.420059Z",
     "shell.execute_reply": "2022-11-22T08:19:23.419254Z",
     "shell.execute_reply.started": "2022-11-22T08:19:23.397734Z"
    }
   },
   "outputs": [
    {
     "data": {
      "text/plain": [
       "'mrs robinson youre trying seduce arent'"
      ]
     },
     "execution_count": 15,
     "metadata": {},
     "output_type": "execute_result"
    }
   ],
   "source": [
    "# Cleaning text\n",
    "def clean_text(text):\n",
    "    text = text.lower()\n",
    "    text = rm_punc_from_text(text)\n",
    "    text = rm_number_from_text(text)\n",
    "    text = rm_stopwords_from_text(text)\n",
    "\n",
    "    # there are hyphen(–) in many titles, so replacing it with empty str\n",
    "    # this hyphen(–) is different from normal hyphen(-)\n",
    "    text = re.sub('–', '', text)\n",
    "    text = ' '.join(text.split())  # removing `extra` white spaces\n",
    "\n",
    "    # Removing unnecessary characters from text\n",
    "    text = re.sub(\"(\\\\t)\", ' ', str(text)).lower()\n",
    "    text = re.sub(\"(\\\\r)\", ' ', str(text)).lower()\n",
    "    text = re.sub(\"(\\\\n)\", ' ', str(text)).lower()\n",
    "\n",
    "    # remove accented chars ('Sómě Áccěntěd těxt' => 'Some Accented text')\n",
    "    text = unicodedata.normalize('NFKD', text).encode('ascii', 'ignore').decode(\n",
    "        'utf-8', 'ignore'\n",
    "    )\n",
    "\n",
    "    text = re.sub(\"(__+)\", ' ', str(text)).lower()\n",
    "    text = re.sub(\"(--+)\", ' ', str(text)).lower()\n",
    "    text = re.sub(\"(~~+)\", ' ', str(text)).lower()\n",
    "    text = re.sub(\"(\\+\\++)\", ' ', str(text)).lower()\n",
    "    text = re.sub(\"(\\.\\.+)\", ' ', str(text)).lower()\n",
    "\n",
    "    text = re.sub(r\"[<>()|&©ø\\[\\]\\'\\\",;?~*!]\", ' ', str(text)).lower()\n",
    "\n",
    "    text = re.sub(\"(mailto:)\", ' ', str(text)).lower()\n",
    "    text = re.sub(r\"(\\\\x9\\d)\", ' ', str(text)).lower()\n",
    "    text = re.sub(\"([iI][nN][cC]\\d+)\", 'INC_NUM', str(text)).lower()\n",
    "    text = re.sub(\"([cC][mM]\\d+)|([cC][hH][gG]\\d+)\", 'CM_NUM',\n",
    "                  str(text)).lower()\n",
    "\n",
    "    text = re.sub(\"(\\.\\s+)\", ' ', str(text)).lower()\n",
    "    text = re.sub(\"(\\-\\s+)\", ' ', str(text)).lower()\n",
    "    text = re.sub(\"(\\:\\s+)\", ' ', str(text)).lower()\n",
    "    text = re.sub(\"(\\s+.\\s+)\", ' ', str(text)).lower()\n",
    "\n",
    "    try:\n",
    "        url = re.search(r'((https*:\\/*)([^\\/\\s]+))(.[^\\s]+)', str(text))\n",
    "        repl_url = url.group(3)\n",
    "        text = re.sub(r'((https*:\\/*)([^\\/\\s]+))(.[^\\s]+)', repl_url, str(text))\n",
    "    except Exception as e:\n",
    "        pass\n",
    "\n",
    "    text = re.sub(\"(\\s+)\", ' ', str(text)).lower()\n",
    "    text = re.sub(\"(\\s+.\\s+)\", ' ', str(text)).lower()\n",
    "\n",
    "    return text\n",
    "\n",
    "clean_text(\"Mrs. Robinson, you're trying to seduce me, aren't you?\")"
   ]
  },
  {
   "cell_type": "code",
   "execution_count": 16,
   "metadata": {
    "execution": {
     "iopub.execute_input": "2022-11-22T08:19:23.424472Z",
     "iopub.status.busy": "2022-11-22T08:19:23.421556Z",
     "iopub.status.idle": "2022-11-22T08:20:54.218240Z",
     "shell.execute_reply": "2022-11-22T08:20:54.217259Z",
     "shell.execute_reply.started": "2022-11-22T08:19:23.424437Z"
    }
   },
   "outputs": [
    {
     "data": {
      "text/html": [
       "<div>\n",
       "<style scoped>\n",
       "    .dataframe tbody tr th:only-of-type {\n",
       "        vertical-align: middle;\n",
       "    }\n",
       "\n",
       "    .dataframe tbody tr th {\n",
       "        vertical-align: top;\n",
       "    }\n",
       "\n",
       "    .dataframe thead th {\n",
       "        text-align: right;\n",
       "    }\n",
       "</style>\n",
       "<table border=\"1\" class=\"dataframe\">\n",
       "  <thead>\n",
       "    <tr style=\"text-align: right;\">\n",
       "      <th></th>\n",
       "      <th>headlines</th>\n",
       "      <th>text</th>\n",
       "    </tr>\n",
       "  </thead>\n",
       "  <tbody>\n",
       "    <tr>\n",
       "      <th>93519</th>\n",
       "      <td>deepika padukone confirms dating ranveer singh...</td>\n",
       "      <td>following announcement iage dates mber actress...</td>\n",
       "    </tr>\n",
       "    <tr>\n",
       "      <th>93659</th>\n",
       "      <td>barcelona win st el claasico without messi ron...</td>\n",
       "      <td>uruguayan forward luis suaarez netted hattrick...</td>\n",
       "    </tr>\n",
       "    <tr>\n",
       "      <th>85897</th>\n",
       "      <td>diamond ring bought aaa1 sold aaa1 crore</td>\n",
       "      <td>diamond ring sold aa aaa1 crore auction london...</td>\n",
       "    </tr>\n",
       "    <tr>\n",
       "      <th>5475</th>\n",
       "      <td>govt releases salary funds delhi university co...</td>\n",
       "      <td>deputy cm manish sisodia ordered release funds...</td>\n",
       "    </tr>\n",
       "    <tr>\n",
       "      <th>54330</th>\n",
       "      <td>bjp wins owaisi flee telangana cm</td>\n",
       "      <td>speaking rally pollbound telangana uttar prade...</td>\n",
       "    </tr>\n",
       "  </tbody>\n",
       "</table>\n",
       "</div>"
      ],
      "text/plain": [
       "                                               headlines  \\\n",
       "93519  deepika padukone confirms dating ranveer singh...   \n",
       "93659  barcelona win st el claasico without messi ron...   \n",
       "85897           diamond ring bought aaa1 sold aaa1 crore   \n",
       "5475   govt releases salary funds delhi university co...   \n",
       "54330                  bjp wins owaisi flee telangana cm   \n",
       "\n",
       "                                                    text  \n",
       "93519  following announcement iage dates mber actress...  \n",
       "93659  uruguayan forward luis suaarez netted hattrick...  \n",
       "85897  diamond ring sold aa aaa1 crore auction london...  \n",
       "5475   deputy cm manish sisodia ordered release funds...  \n",
       "54330  speaking rally pollbound telangana uttar prade...  "
      ]
     },
     "execution_count": 16,
     "metadata": {},
     "output_type": "execute_result"
    }
   ],
   "source": [
    "df.text = df.text.apply(clean_text)\n",
    "df.headlines = df.headlines.apply(clean_text)\n",
    "df.sample(5)"
   ]
  },
  {
   "cell_type": "code",
   "execution_count": 17,
   "metadata": {
    "execution": {
     "iopub.execute_input": "2022-11-22T08:20:54.219800Z",
     "iopub.status.busy": "2022-11-22T08:20:54.219567Z",
     "iopub.status.idle": "2022-11-22T08:20:54.958541Z",
     "shell.execute_reply": "2022-11-22T08:20:54.957529Z",
     "shell.execute_reply.started": "2022-11-22T08:20:54.219772Z"
    }
   },
   "outputs": [],
   "source": [
    "# saving the cleaned data\n",
    "df.to_csv('cleaned_data.csv')"
   ]
  },
  {
   "cell_type": "code",
   "execution_count": 18,
   "metadata": {
    "execution": {
     "iopub.execute_input": "2022-11-22T08:20:54.960757Z",
     "iopub.status.busy": "2022-11-22T08:20:54.960107Z",
     "iopub.status.idle": "2022-11-22T08:20:55.001278Z",
     "shell.execute_reply": "2022-11-22T08:20:55.000549Z",
     "shell.execute_reply.started": "2022-11-22T08:20:54.960719Z"
    }
   },
   "outputs": [],
   "source": [
    "#Using a start and end tokens in headlines(summary) to let the learning algorithm know from where \n",
    "#the headlines start's and end's.\n",
    "df.headlines = df.headlines.apply(lambda x: f'_START_ {x} _END_')"
   ]
  },
  {
   "cell_type": "code",
   "execution_count": 19,
   "metadata": {
    "execution": {
     "iopub.execute_input": "2022-11-22T08:20:55.002720Z",
     "iopub.status.busy": "2022-11-22T08:20:55.002466Z",
     "iopub.status.idle": "2022-11-22T08:20:55.048790Z",
     "shell.execute_reply": "2022-11-22T08:20:55.047845Z",
     "shell.execute_reply.started": "2022-11-22T08:20:55.002689Z"
    }
   },
   "outputs": [],
   "source": [
    "#Again adding tokens ... but different ones.\n",
    "start_token = 'sostok'\n",
    "end_token = 'eostok'\n",
    "df.headlines = df.headlines.apply(lambda x: f'{start_token} {x} {end_token}')"
   ]
  },
  {
   "cell_type": "code",
   "execution_count": 20,
   "metadata": {
    "execution": {
     "iopub.execute_input": "2022-11-22T08:20:55.050768Z",
     "iopub.status.busy": "2022-11-22T08:20:55.050323Z",
     "iopub.status.idle": "2022-11-22T08:20:55.063614Z",
     "shell.execute_reply": "2022-11-22T08:20:55.062818Z",
     "shell.execute_reply.started": "2022-11-22T08:20:55.050733Z"
    }
   },
   "outputs": [
    {
     "data": {
      "text/html": [
       "<div>\n",
       "<style scoped>\n",
       "    .dataframe tbody tr th:only-of-type {\n",
       "        vertical-align: middle;\n",
       "    }\n",
       "\n",
       "    .dataframe tbody tr th {\n",
       "        vertical-align: top;\n",
       "    }\n",
       "\n",
       "    .dataframe thead th {\n",
       "        text-align: right;\n",
       "    }\n",
       "</style>\n",
       "<table border=\"1\" class=\"dataframe\">\n",
       "  <thead>\n",
       "    <tr style=\"text-align: right;\">\n",
       "      <th></th>\n",
       "      <th>headlines</th>\n",
       "      <th>text</th>\n",
       "    </tr>\n",
       "  </thead>\n",
       "  <tbody>\n",
       "    <tr>\n",
       "      <th>2154</th>\n",
       "      <td>sostok _START_ police book unknown persons har...</td>\n",
       "      <td>police booked unknown persons allegedly sexual...</td>\n",
       "    </tr>\n",
       "    <tr>\n",
       "      <th>47119</th>\n",
       "      <td>sostok _START_ jawan tonsures constable makes ...</td>\n",
       "      <td>police constable allegedly tonsured forced eat...</td>\n",
       "    </tr>\n",
       "    <tr>\n",
       "      <th>53075</th>\n",
       "      <td>sostok _START_ tripura governor compares azaan...</td>\n",
       "      <td>tripura governor tathagata roy compared azaan ...</td>\n",
       "    </tr>\n",
       "    <tr>\n",
       "      <th>21799</th>\n",
       "      <td>sostok _START_ us qatar sign agreement fightin...</td>\n",
       "      <td>united states qatar tuesday signed agreement c...</td>\n",
       "    </tr>\n",
       "    <tr>\n",
       "      <th>4979</th>\n",
       "      <td>sostok _START_ south korea uncovers mn illegal...</td>\n",
       "      <td>south korea uncovered illegal cryptocurrency f...</td>\n",
       "    </tr>\n",
       "  </tbody>\n",
       "</table>\n",
       "</div>"
      ],
      "text/plain": [
       "                                               headlines  \\\n",
       "2154   sostok _START_ police book unknown persons har...   \n",
       "47119  sostok _START_ jawan tonsures constable makes ...   \n",
       "53075  sostok _START_ tripura governor compares azaan...   \n",
       "21799  sostok _START_ us qatar sign agreement fightin...   \n",
       "4979   sostok _START_ south korea uncovers mn illegal...   \n",
       "\n",
       "                                                    text  \n",
       "2154   police booked unknown persons allegedly sexual...  \n",
       "47119  police constable allegedly tonsured forced eat...  \n",
       "53075  tripura governor tathagata roy compared azaan ...  \n",
       "21799  united states qatar tuesday signed agreement c...  \n",
       "4979   south korea uncovered illegal cryptocurrency f...  "
      ]
     },
     "execution_count": 20,
     "metadata": {},
     "output_type": "execute_result"
    }
   ],
   "source": [
    "df.sample(5)"
   ]
  },
  {
   "cell_type": "code",
   "execution_count": 21,
   "metadata": {
    "execution": {
     "iopub.execute_input": "2022-11-22T08:20:55.065520Z",
     "iopub.status.busy": "2022-11-22T08:20:55.065050Z",
     "iopub.status.idle": "2022-11-22T08:20:56.087329Z",
     "shell.execute_reply": "2022-11-22T08:20:56.086517Z",
     "shell.execute_reply.started": "2022-11-22T08:20:55.065471Z"
    }
   },
   "outputs": [
    {
     "data": {
      "image/png": "[encoded data removed]",
      "text/plain": [
       "<Figure size 1152x288 with 2 Axes>"
      ]
     },
     "metadata": {
      "needs_background": "light"
     },
     "output_type": "display_data"
    }
   ],
   "source": [
    "#Finding what should be the maximum length of text and headlines that will be feed or \n",
    "#accepted by the learning algorithm.\n",
    "text_count = [len(sentence.split()) for sentence in df.text]\n",
    "headlines_count = [len(sentence.split()) for sentence in df.headlines]\n",
    "\n",
    "pd.DataFrame({'text': text_count, 'headlines': headlines_count}).hist(bins=100, figsize=(16, 4), range=[0, 50])\n",
    "plt.show()"
   ]
  },
  {
   "cell_type": "code",
   "execution_count": 22,
   "metadata": {
    "execution": {
     "iopub.execute_input": "2022-11-22T08:20:56.088545Z",
     "iopub.status.busy": "2022-11-22T08:20:56.088341Z",
     "iopub.status.idle": "2022-11-22T08:20:56.414359Z",
     "shell.execute_reply": "2022-11-22T08:20:56.413749Z",
     "shell.execute_reply.started": "2022-11-22T08:20:56.088520Z"
    }
   },
   "outputs": [
    {
     "name": "stdout",
     "output_type": "stream",
     "text": [
      "0.99\n",
      "0.99\n"
     ]
    }
   ],
   "source": [
    "# To check how many rows in a column has length (of the text) <= limit\n",
    "def get_word_percent(column, limit):\n",
    "    count = 0\n",
    "    for sentence in column:\n",
    "        if len(sentence.split()) <= limit:\n",
    "            count += 1\n",
    "\n",
    "    return round(count / len(column), 2)\n",
    "\n",
    "\n",
    "# Check how many % of headlines have 0-13 words\n",
    "print(get_word_percent(df.headlines, 13))\n",
    "\n",
    "# Check how many % of summary have 0-42 words\n",
    "print(get_word_percent(df.text, 42))"
   ]
  },
  {
   "cell_type": "code",
   "execution_count": 23,
   "metadata": {
    "execution": {
     "iopub.execute_input": "2022-11-22T08:20:56.415840Z",
     "iopub.status.busy": "2022-11-22T08:20:56.415382Z",
     "iopub.status.idle": "2022-11-22T08:20:56.420540Z",
     "shell.execute_reply": "2022-11-22T08:20:56.419494Z",
     "shell.execute_reply.started": "2022-11-22T08:20:56.415790Z"
    }
   },
   "outputs": [],
   "source": [
    "max_text_len = 42\n",
    "max_summary_len = 13"
   ]
  },
  {
   "cell_type": "code",
   "execution_count": 24,
   "metadata": {
    "execution": {
     "iopub.execute_input": "2022-11-22T08:20:56.421938Z",
     "iopub.status.busy": "2022-11-22T08:20:56.421728Z",
     "iopub.status.idle": "2022-11-22T08:20:56.794406Z",
     "shell.execute_reply": "2022-11-22T08:20:56.793606Z",
     "shell.execute_reply.started": "2022-11-22T08:20:56.421913Z"
    }
   },
   "outputs": [
    {
     "name": "stdout",
     "output_type": "stream",
     "text": [
      "Dataset size: 100278\n"
     ]
    },
    {
     "data": {
      "text/html": [
       "<div>\n",
       "<style scoped>\n",
       "    .dataframe tbody tr th:only-of-type {\n",
       "        vertical-align: middle;\n",
       "    }\n",
       "\n",
       "    .dataframe tbody tr th {\n",
       "        vertical-align: top;\n",
       "    }\n",
       "\n",
       "    .dataframe thead th {\n",
       "        text-align: right;\n",
       "    }\n",
       "</style>\n",
       "<table border=\"1\" class=\"dataframe\">\n",
       "  <thead>\n",
       "    <tr style=\"text-align: right;\">\n",
       "      <th></th>\n",
       "      <th>text</th>\n",
       "      <th>summary</th>\n",
       "    </tr>\n",
       "  </thead>\n",
       "  <tbody>\n",
       "    <tr>\n",
       "      <th>12689</th>\n",
       "      <td>teacher couple working private school jammu ka...</td>\n",
       "      <td>sostok _START_ teacher couple sacked school sa...</td>\n",
       "    </tr>\n",
       "    <tr>\n",
       "      <th>65254</th>\n",
       "      <td>father manoj kharat arrested cbi pnb fraud cas...</td>\n",
       "      <td>sostok _START_ pnb framed son arrested bank of...</td>\n",
       "    </tr>\n",
       "    <tr>\n",
       "      <th>81553</th>\n",
       "      <td>yacht party organised ahead sunburn saw nucley...</td>\n",
       "      <td>sostok _START_ pre yacht party organised ola a...</td>\n",
       "    </tr>\n",
       "    <tr>\n",
       "      <th>69212</th>\n",
       "      <td>tesla shareholders tuesday voted proposal remo...</td>\n",
       "      <td>sostok _START_ musk remain tesla chairman prop...</td>\n",
       "    </tr>\n",
       "    <tr>\n",
       "      <th>56348</th>\n",
       "      <td>india consumes maximum amount mobile data worl...</td>\n",
       "      <td>sostok _START_ india consumes mobile data per ...</td>\n",
       "    </tr>\n",
       "  </tbody>\n",
       "</table>\n",
       "</div>"
      ],
      "text/plain": [
       "                                                    text  \\\n",
       "12689  teacher couple working private school jammu ka...   \n",
       "65254  father manoj kharat arrested cbi pnb fraud cas...   \n",
       "81553  yacht party organised ahead sunburn saw nucley...   \n",
       "69212  tesla shareholders tuesday voted proposal remo...   \n",
       "56348  india consumes maximum amount mobile data worl...   \n",
       "\n",
       "                                                 summary  \n",
       "12689  sostok _START_ teacher couple sacked school sa...  \n",
       "65254  sostok _START_ pnb framed son arrested bank of...  \n",
       "81553  sostok _START_ pre yacht party organised ola a...  \n",
       "69212  sostok _START_ musk remain tesla chairman prop...  \n",
       "56348  sostok _START_ india consumes mobile data per ...  "
      ]
     },
     "execution_count": 24,
     "metadata": {},
     "output_type": "execute_result"
    }
   ],
   "source": [
    "# select the summary and text between their defined max lens respectively\n",
    "def trim_text_and_summary(df, max_text_len, max_summary_len):\n",
    "    cleaned_text = np.array(df['text'])\n",
    "    cleaned_summary = np.array(df['headlines'])\n",
    "\n",
    "    short_text = []\n",
    "    short_summary = []\n",
    "\n",
    "    for i in range(len(cleaned_text)):\n",
    "        if len(cleaned_text[i].split()) <= max_text_len and len(\n",
    "            cleaned_summary[i].split()\n",
    "        ) <= max_summary_len:\n",
    "            short_text.append(cleaned_text[i])\n",
    "            short_summary.append(cleaned_summary[i])\n",
    "\n",
    "    df = pd.DataFrame({'text': short_text, 'summary': short_summary})\n",
    "    return df\n",
    "\n",
    "\n",
    "df = trim_text_and_summary(df, max_text_len, max_summary_len)\n",
    "print(f'Dataset size: {len(df)}')\n",
    "df.sample(5)"
   ]
  },
  {
   "cell_type": "code",
   "execution_count": 25,
   "metadata": {
    "execution": {
     "iopub.execute_input": "2022-11-22T08:20:56.795640Z",
     "iopub.status.busy": "2022-11-22T08:20:56.795424Z",
     "iopub.status.idle": "2022-11-22T08:20:56.802353Z",
     "shell.execute_reply": "2022-11-22T08:20:56.801521Z",
     "shell.execute_reply.started": "2022-11-22T08:20:56.795615Z"
    }
   },
   "outputs": [],
   "source": [
    "# rare word analysis\n",
    "def get_rare_word_percent(tokenizer, threshold):\n",
    "    # threshold: if the word's occurrence is less than this then it's rare word\n",
    "\n",
    "    count = 0\n",
    "    total_count = 0\n",
    "    frequency = 0\n",
    "    total_frequency = 0\n",
    "\n",
    "    for key, value in tokenizer.word_counts.items():\n",
    "        total_count += 1\n",
    "        total_frequency += value\n",
    "        if value < threshold:\n",
    "            count += 1\n",
    "            frequency += value\n",
    "\n",
    "    return {\n",
    "        'percent': round((count / total_count) * 100, 2),\n",
    "        'total_coverage': round(frequency / total_frequency * 100, 2),\n",
    "        'count': count,\n",
    "        'total_count': total_count\n",
    "    }"
   ]
  },
  {
   "cell_type": "code",
   "execution_count": 26,
   "metadata": {
    "execution": {
     "iopub.execute_input": "2022-11-22T08:20:56.803641Z",
     "iopub.status.busy": "2022-11-22T08:20:56.803425Z",
     "iopub.status.idle": "2022-11-22T08:20:56.835595Z",
     "shell.execute_reply": "2022-11-22T08:20:56.834669Z",
     "shell.execute_reply.started": "2022-11-22T08:20:56.803616Z"
    }
   },
   "outputs": [],
   "source": [
    "# Splitting the training and validation sets\n",
    "x_train, x_val, y_train, y_val = train_test_split(\n",
    "    np.array(df['text']),\n",
    "    np.array(df['summary']),\n",
    "    test_size=0.1,\n",
    "    random_state=1,\n",
    "    shuffle=True\n",
    ")"
   ]
  },
  {
   "cell_type": "code",
   "execution_count": 27,
   "metadata": {
    "execution": {
     "iopub.execute_input": "2022-11-22T08:20:56.836819Z",
     "iopub.status.busy": "2022-11-22T08:20:56.836609Z",
     "iopub.status.idle": "2022-11-22T08:21:00.642834Z",
     "shell.execute_reply": "2022-11-22T08:21:00.642255Z",
     "shell.execute_reply.started": "2022-11-22T08:20:56.836795Z"
    }
   },
   "outputs": [
    {
     "name": "stdout",
     "output_type": "stream",
     "text": [
      "{'percent': 65.35, 'total_coverage': 2.96, 'count': 65254, 'total_count': 99858}\n"
     ]
    }
   ],
   "source": [
    "#Tokenizing text - x\n",
    "x_tokenizer = Tokenizer()\n",
    "x_tokenizer.fit_on_texts(list(x_train))\n",
    "\n",
    "x_tokens_data = get_rare_word_percent(x_tokenizer, 4)\n",
    "print(x_tokens_data)"
   ]
  },
  {
   "cell_type": "code",
   "execution_count": 28,
   "metadata": {
    "execution": {
     "iopub.execute_input": "2022-11-22T08:21:00.644399Z",
     "iopub.status.busy": "2022-11-22T08:21:00.643807Z",
     "iopub.status.idle": "2022-11-22T08:21:04.306665Z",
     "shell.execute_reply": "2022-11-22T08:21:04.305691Z",
     "shell.execute_reply.started": "2022-11-22T08:21:00.644367Z"
    }
   },
   "outputs": [],
   "source": [
    "x_tokenizer = Tokenizer()\n",
    "x_tokenizer.fit_on_texts(list(x_train))"
   ]
  },
  {
   "cell_type": "code",
   "execution_count": 29,
   "metadata": {
    "execution": {
     "iopub.execute_input": "2022-11-22T08:21:04.308198Z",
     "iopub.status.busy": "2022-11-22T08:21:04.307925Z",
     "iopub.status.idle": "2022-11-22T08:21:04.430710Z",
     "shell.execute_reply": "2022-11-22T08:21:04.429435Z",
     "shell.execute_reply.started": "2022-11-22T08:21:04.308167Z"
    }
   },
   "outputs": [],
   "source": [
    "# save tokenizer\n",
    "with open('x_tokenizer', 'wb') as f:\n",
    "    pickle.dump(x_tokenizer, f, protocol=pickle.HIGHEST_PROTOCOL)"
   ]
  },
  {
   "cell_type": "code",
   "execution_count": 30,
   "metadata": {
    "execution": {
     "iopub.execute_input": "2022-11-22T08:21:04.432742Z",
     "iopub.status.busy": "2022-11-22T08:21:04.432316Z",
     "iopub.status.idle": "2022-11-22T08:21:08.377692Z",
     "shell.execute_reply": "2022-11-22T08:21:08.376641Z",
     "shell.execute_reply.started": "2022-11-22T08:21:04.432690Z"
    }
   },
   "outputs": [
    {
     "name": "stdout",
     "output_type": "stream",
     "text": [
      "99859\n"
     ]
    }
   ],
   "source": [
    "# one-hot-encoding\n",
    "x_train_sequence = x_tokenizer.texts_to_sequences(x_train)\n",
    "x_val_sequence = x_tokenizer.texts_to_sequences(x_val)\n",
    "\n",
    "# padding upto max_text_len\n",
    "x_train_padded = pad_sequences(x_train_sequence, maxlen=max_text_len, padding='post')\n",
    "x_val_padded = pad_sequences(x_val_sequence, maxlen=max_text_len, padding='post')\n",
    "\n",
    "# if you're not using num_words parameter in Tokenizer then use this\n",
    "x_vocab_size = len(x_tokenizer.word_index) + 1\n",
    "\n",
    "# else use this\n",
    "# x_vocab_size = x_tokenizer.num_words + 1\n",
    "\n",
    "print(x_vocab_size)"
   ]
  },
  {
   "cell_type": "code",
   "execution_count": 31,
   "metadata": {
    "execution": {
     "iopub.execute_input": "2022-11-22T08:21:08.379453Z",
     "iopub.status.busy": "2022-11-22T08:21:08.379182Z",
     "iopub.status.idle": "2022-11-22T08:21:10.123958Z",
     "shell.execute_reply": "2022-11-22T08:21:10.122924Z",
     "shell.execute_reply.started": "2022-11-22T08:21:08.379422Z"
    }
   },
   "outputs": [
    {
     "name": "stdout",
     "output_type": "stream",
     "text": [
      "{'percent': 69.12, 'total_coverage': 4.79, 'count': 25880, 'total_count': 37440}\n"
     ]
    }
   ],
   "source": [
    "#Tokenizing headlines(summary) - y\n",
    "y_tokenizer = Tokenizer()\n",
    "y_tokenizer.fit_on_texts(list(y_train))\n",
    "\n",
    "y_tokens_data = get_rare_word_percent(y_tokenizer, 6)\n",
    "print(y_tokens_data)"
   ]
  },
  {
   "cell_type": "code",
   "execution_count": 32,
   "metadata": {
    "execution": {
     "iopub.execute_input": "2022-11-22T08:21:10.125457Z",
     "iopub.status.busy": "2022-11-22T08:21:10.125197Z",
     "iopub.status.idle": "2022-11-22T08:21:11.857065Z",
     "shell.execute_reply": "2022-11-22T08:21:11.856338Z",
     "shell.execute_reply.started": "2022-11-22T08:21:10.125418Z"
    }
   },
   "outputs": [],
   "source": [
    "y_tokenizer = Tokenizer()\n",
    "y_tokenizer.fit_on_texts(list(y_train))"
   ]
  },
  {
   "cell_type": "code",
   "execution_count": 33,
   "metadata": {
    "execution": {
     "iopub.execute_input": "2022-11-22T08:21:11.858698Z",
     "iopub.status.busy": "2022-11-22T08:21:11.858086Z",
     "iopub.status.idle": "2022-11-22T08:21:11.899457Z",
     "shell.execute_reply": "2022-11-22T08:21:11.898717Z",
     "shell.execute_reply.started": "2022-11-22T08:21:11.858666Z"
    }
   },
   "outputs": [],
   "source": [
    "# save tokenizer\n",
    "with open('y_tokenizer', 'wb') as f:\n",
    "    pickle.dump(y_tokenizer, f, protocol=pickle.HIGHEST_PROTOCOL)"
   ]
  },
  {
   "cell_type": "code",
   "execution_count": 34,
   "metadata": {
    "execution": {
     "iopub.execute_input": "2022-11-22T08:21:11.900950Z",
     "iopub.status.busy": "2022-11-22T08:21:11.900610Z",
     "iopub.status.idle": "2022-11-22T08:21:13.808375Z",
     "shell.execute_reply": "2022-11-22T08:21:13.807730Z",
     "shell.execute_reply.started": "2022-11-22T08:21:11.900922Z"
    }
   },
   "outputs": [
    {
     "name": "stdout",
     "output_type": "stream",
     "text": [
      "37441\n"
     ]
    }
   ],
   "source": [
    "# one-hot-encoding\n",
    "y_train_sequence = y_tokenizer.texts_to_sequences(y_train)\n",
    "y_val_sequence = y_tokenizer.texts_to_sequences(y_val)\n",
    "\n",
    "# padding upto max_summary_len\n",
    "y_train_padded = pad_sequences(y_train_sequence, maxlen=max_summary_len, padding='post')\n",
    "y_val_padded = pad_sequences(y_val_sequence, maxlen=max_summary_len, padding='post')\n",
    "\n",
    "# if you're not using num_words parameter in Tokenizer then use this\n",
    "y_vocab_size = len(y_tokenizer.word_index) + 1\n",
    "\n",
    "# else use this\n",
    "# y_vocab_size = y_tokenizer.num_words + 1\n",
    "\n",
    "print(y_vocab_size)"
   ]
  },
  {
   "cell_type": "code",
   "execution_count": 35,
   "metadata": {
    "execution": {
     "iopub.execute_input": "2022-11-22T08:21:13.809771Z",
     "iopub.status.busy": "2022-11-22T08:21:13.809443Z",
     "iopub.status.idle": "2022-11-22T08:21:15.992912Z",
     "shell.execute_reply": "2022-11-22T08:21:15.991698Z",
     "shell.execute_reply.started": "2022-11-22T08:21:13.809743Z"
    }
   },
   "outputs": [],
   "source": [
    "# removing summary which only has sostok & eostok\n",
    "def remove_indexes(summary_array):\n",
    "    remove_indexes = []\n",
    "    for i in range(len(summary_array)):\n",
    "        count = 0\n",
    "        for j in summary_array[i]:\n",
    "            if j != 0:\n",
    "                count += 1\n",
    "        if count == 2:\n",
    "            remove_indexes.append(i)\n",
    "    return remove_indexes\n",
    "\n",
    "\n",
    "remove_train_indexes = remove_indexes(y_train_padded)\n",
    "remove_val_indexes = remove_indexes(y_val_padded)\n",
    "\n",
    "y_train_padded = np.delete(y_train_padded, remove_train_indexes, axis=0)\n",
    "x_train_padded = np.delete(x_train_padded, remove_train_indexes, axis=0)\n",
    "\n",
    "y_val_padded = np.delete(y_val_padded, remove_val_indexes, axis=0)\n",
    "x_val_padded = np.delete(x_val_padded, remove_val_indexes, axis=0)"
   ]
  },
  {
   "cell_type": "code",
   "execution_count": 36,
   "metadata": {
    "execution": {
     "iopub.execute_input": "2022-11-22T08:21:15.994909Z",
     "iopub.status.busy": "2022-11-22T08:21:15.994473Z",
     "iopub.status.idle": "2022-11-22T08:21:16.000054Z",
     "shell.execute_reply": "2022-11-22T08:21:15.998950Z",
     "shell.execute_reply.started": "2022-11-22T08:21:15.994866Z"
    }
   },
   "outputs": [],
   "source": [
    "latent_dim = 240\n",
    "embedding_dim = 300\n",
    "num_epochs = 50"
   ]
  },
  {
   "cell_type": "code",
   "execution_count": 37,
   "metadata": {
    "execution": {
     "iopub.execute_input": "2022-11-22T08:21:16.002612Z",
     "iopub.status.busy": "2022-11-22T08:21:16.002003Z",
     "iopub.status.idle": "2022-11-22T08:21:58.653074Z",
     "shell.execute_reply": "2022-11-22T08:21:58.652091Z",
     "shell.execute_reply.started": "2022-11-22T08:21:16.002569Z"
    }
   },
   "outputs": [
    {
     "name": "stdout",
     "output_type": "stream",
     "text": [
      "Found 400000 word vectors.\n",
      "Converted 56460 words (43398 misses)\n",
      "Found 400000 word vectors.\n",
      "Converted 27615 words (9825 misses)\n"
     ]
    }
   ],
   "source": [
    "def get_embedding_matrix(tokenizer, embedding_dim, vocab_size=None):\n",
    "    word_index = tokenizer.word_index\n",
    "    voc = list(word_index.keys())\n",
    "\n",
    "    path_to_glove_file = '../input/glove6b/glove.6B.300d.txt'\n",
    "\n",
    "    embeddings_index = {}\n",
    "    with open(path_to_glove_file) as f:\n",
    "        for line in f:\n",
    "            word, coefs = line.split(maxsplit=1)\n",
    "            coefs = np.fromstring(coefs, \"f\", sep=\" \")\n",
    "            embeddings_index[word] = coefs\n",
    "\n",
    "    print(\"Found %s word vectors.\" % len(embeddings_index))\n",
    "\n",
    "    num_tokens = len(voc) + 2 if not vocab_size else vocab_size\n",
    "    hits = 0\n",
    "    misses = 0\n",
    "\n",
    "    # Prepare embedding matrix\n",
    "    embedding_matrix = np.zeros((num_tokens, embedding_dim))\n",
    "    for word, i in word_index.items():\n",
    "        embedding_vector = embeddings_index.get(word)\n",
    "        if embedding_vector is not None:\n",
    "            # Words not found in embedding index will be all-zeros.\n",
    "            # This includes the representation for \"padding\" and \"OOV\"\n",
    "            embedding_matrix[i] = embedding_vector\n",
    "            hits += 1\n",
    "        else:\n",
    "            misses += 1\n",
    "    print(\"Converted %d words (%d misses)\" % (hits, misses))\n",
    "\n",
    "    return embedding_matrix\n",
    "\n",
    "\n",
    "x_embedding_matrix = get_embedding_matrix(x_tokenizer, embedding_dim, x_vocab_size)\n",
    "y_embedding_matrix = get_embedding_matrix(y_tokenizer, embedding_dim, y_vocab_size)"
   ]
  },
  {
   "cell_type": "code",
   "execution_count": 38,
   "metadata": {
    "execution": {
     "iopub.execute_input": "2022-11-22T08:21:58.654851Z",
     "iopub.status.busy": "2022-11-22T08:21:58.654497Z",
     "iopub.status.idle": "2022-11-22T08:21:58.660637Z",
     "shell.execute_reply": "2022-11-22T08:21:58.659793Z",
     "shell.execute_reply.started": "2022-11-22T08:21:58.654810Z"
    }
   },
   "outputs": [
    {
     "name": "stdout",
     "output_type": "stream",
     "text": [
      "(99859, 300)\n",
      "(37441, 300)\n"
     ]
    }
   ],
   "source": [
    "print(x_embedding_matrix.shape)\n",
    "print(y_embedding_matrix.shape)"
   ]
  },
  {
   "cell_type": "code",
   "execution_count": 39,
   "metadata": {
    "execution": {
     "iopub.execute_input": "2022-11-22T08:21:58.661944Z",
     "iopub.status.busy": "2022-11-22T08:21:58.661709Z",
     "iopub.status.idle": "2022-11-22T08:21:58.674738Z",
     "shell.execute_reply": "2022-11-22T08:21:58.673887Z",
     "shell.execute_reply.started": "2022-11-22T08:21:58.661920Z"
    }
   },
   "outputs": [],
   "source": [
    "def build_seq2seq_model_with_just_lstm(\n",
    "    embedding_dim, latent_dim, max_text_len, \n",
    "    x_vocab_size, y_vocab_size,\n",
    "    x_embedding_matrix, y_embedding_matrix\n",
    "):\n",
    "    # instantiating the model in the strategy scope creates the model on the TPU\n",
    "    with tpu_strategy.scope():\n",
    "\n",
    "        \n",
    "        # Encoder\n",
    "        # =====================\n",
    "        \n",
    "        encoder_input = Input(shape=(max_text_len, ))\n",
    "\n",
    "        # encoder embedding layer\n",
    "        encoder_embedding = Embedding(\n",
    "            x_vocab_size,\n",
    "            embedding_dim,\n",
    "            embeddings_initializer=tf.keras.initializers.Constant(x_embedding_matrix),\n",
    "            trainable=False\n",
    "        )(encoder_input)\n",
    "\n",
    "        # encoder lstm 1\n",
    "        encoder_lstm1 = LSTM(\n",
    "            latent_dim,\n",
    "            return_sequences=True,\n",
    "            return_state=True,\n",
    "            dropout=0.4,\n",
    "            recurrent_dropout=0.4\n",
    "        )\n",
    "        encoder_output1, state_h1, state_c1 = encoder_lstm1(encoder_embedding)\n",
    "\n",
    "        # encoder lstm 2\n",
    "        encoder_lstm2 = LSTM(\n",
    "            latent_dim,\n",
    "            return_sequences=True,\n",
    "            return_state=True,\n",
    "            dropout=0.4,\n",
    "            recurrent_dropout=0.4\n",
    "        )\n",
    "        encoder_output, *encoder_final_states = encoder_lstm2(encoder_output1)\n",
    "\n",
    "        \n",
    "        # Decoder\n",
    "        # =====================\n",
    "\n",
    "        # Set up the decoder, using `encoder_states` as initial state.\n",
    "\n",
    "        decoder_input = Input(shape=(None, ))\n",
    "\n",
    "        # decoder embedding layer\n",
    "        decoder_embedding_layer = Embedding(\n",
    "            y_vocab_size,\n",
    "            embedding_dim,\n",
    "            embeddings_initializer=tf.keras.initializers.Constant(y_embedding_matrix),\n",
    "            trainable=True\n",
    "        )\n",
    "        decoder_embedding = decoder_embedding_layer(decoder_input)\n",
    "\n",
    "        # decoder lstm 1\n",
    "        decoder_lstm = LSTM(\n",
    "            latent_dim,\n",
    "            return_sequences=True,\n",
    "            return_state=True,\n",
    "            dropout=0.4,\n",
    "            recurrent_dropout=0.4\n",
    "        )\n",
    "        decoder_output, *decoder_final_states = decoder_lstm(\n",
    "            decoder_embedding, initial_state=encoder_final_states\n",
    "        )\n",
    "\n",
    "        # dense layer\n",
    "        decoder_dense = TimeDistributed(\n",
    "            Dense(y_vocab_size, activation='softmax')\n",
    "        )\n",
    "        decoder_output = decoder_dense(decoder_output)\n",
    "\n",
    "        \n",
    "        # Model\n",
    "        # =====================\n",
    "        \n",
    "        model = Model([encoder_input, decoder_input], decoder_output)\n",
    "        model.summary()\n",
    "\n",
    "        optimizer = tf.keras.optimizers.RMSprop(learning_rate=0.001)\n",
    "        model.compile(\n",
    "            optimizer=optimizer,\n",
    "            loss='sparse_categorical_crossentropy',\n",
    "            metrics=['accuracy']\n",
    "        )\n",
    "\n",
    "        return {\n",
    "            'model': model,\n",
    "            'inputs': {\n",
    "                'encoder': encoder_input,\n",
    "                'decoder': decoder_input\n",
    "            },\n",
    "            'outputs': {\n",
    "                'encoder': encoder_output,\n",
    "                'decoder': decoder_output\n",
    "            },\n",
    "            'states': {\n",
    "                'encoder': encoder_final_states,\n",
    "                'decoder': decoder_final_states\n",
    "            },\n",
    "            'layers': {\n",
    "                'decoder': {\n",
    "                    'embedding': decoder_embedding_layer,\n",
    "                    'last_decoder_lstm': decoder_lstm,\n",
    "                    'dense': decoder_dense\n",
    "                }\n",
    "            }\n",
    "        }"
   ]
  },
  {
   "cell_type": "code",
   "execution_count": 40,
   "metadata": {
    "execution": {
     "iopub.execute_input": "2022-11-22T08:21:58.679664Z",
     "iopub.status.busy": "2022-11-22T08:21:58.679455Z",
     "iopub.status.idle": "2022-11-22T08:22:03.469796Z",
     "shell.execute_reply": "2022-11-22T08:22:03.468911Z",
     "shell.execute_reply.started": "2022-11-22T08:21:58.679639Z"
    }
   },
   "outputs": [
    {
     "name": "stdout",
     "output_type": "stream",
     "text": [
      "Model: \"model\"\n",
      "__________________________________________________________________________________________________\n",
      "Layer (type)                    Output Shape         Param #     Connected to                     \n",
      "==================================================================================================\n",
      "input_1 (InputLayer)            [(None, 42)]         0                                            \n",
      "__________________________________________________________________________________________________\n",
      "embedding (Embedding)           (None, 42, 300)      29957700    input_1[0][0]                    \n",
      "__________________________________________________________________________________________________\n",
      "input_2 (InputLayer)            [(None, None)]       0                                            \n",
      "__________________________________________________________________________________________________\n",
      "lstm (LSTM)                     [(None, 42, 240), (N 519360      embedding[0][0]                  \n",
      "__________________________________________________________________________________________________\n",
      "embedding_1 (Embedding)         (None, None, 300)    11232300    input_2[0][0]                    \n",
      "__________________________________________________________________________________________________\n",
      "lstm_1 (LSTM)                   [(None, 42, 240), (N 461760      lstm[0][0]                       \n",
      "__________________________________________________________________________________________________\n",
      "lstm_2 (LSTM)                   [(None, None, 240),  519360      embedding_1[0][0]                \n",
      "                                                                 lstm_1[0][1]                     \n",
      "                                                                 lstm_1[0][2]                     \n",
      "__________________________________________________________________________________________________\n",
      "time_distributed (TimeDistribut (None, None, 37441)  9023281     lstm_2[0][0]                     \n",
      "==================================================================================================\n",
      "Total params: 51,713,761\n",
      "Trainable params: 21,756,061\n",
      "Non-trainable params: 29,957,700\n",
      "__________________________________________________________________________________________________\n"
     ]
    }
   ],
   "source": [
    "seq2seq = build_seq2seq_model_with_just_lstm(\n",
    "    embedding_dim, latent_dim, max_text_len, \n",
    "    x_vocab_size, y_vocab_size,\n",
    "    x_embedding_matrix, y_embedding_matrix\n",
    ")"
   ]
  },
  {
   "cell_type": "code",
   "execution_count": 41,
   "metadata": {
    "execution": {
     "iopub.execute_input": "2022-11-22T08:22:03.471354Z",
     "iopub.status.busy": "2022-11-22T08:22:03.471034Z",
     "iopub.status.idle": "2022-11-22T08:22:03.478739Z",
     "shell.execute_reply": "2022-11-22T08:22:03.477873Z",
     "shell.execute_reply.started": "2022-11-22T08:22:03.471323Z"
    }
   },
   "outputs": [],
   "source": [
    "model = seq2seq['model']\n",
    "\n",
    "encoder_input = seq2seq['inputs']['encoder']\n",
    "decoder_input = seq2seq['inputs']['decoder']\n",
    "\n",
    "encoder_output = seq2seq['outputs']['encoder']\n",
    "decoder_output = seq2seq['outputs']['decoder']\n",
    "\n",
    "encoder_final_states = seq2seq['states']['encoder']\n",
    "decoder_final_states = seq2seq['states']['decoder']\n",
    "\n",
    "decoder_embedding_layer = seq2seq['layers']['decoder']['embedding']\n",
    "last_decoder_lstm = seq2seq['layers']['decoder']['last_decoder_lstm']\n",
    "decoder_dense = seq2seq['layers']['decoder']['dense']"
   ]
  },
  {
   "cell_type": "code",
   "execution_count": 42,
   "metadata": {
    "execution": {
     "iopub.execute_input": "2022-11-22T08:22:03.480667Z",
     "iopub.status.busy": "2022-11-22T08:22:03.480380Z",
     "iopub.status.idle": "2022-11-22T08:22:03.490865Z",
     "shell.execute_reply": "2022-11-22T08:22:03.489879Z",
     "shell.execute_reply.started": "2022-11-22T08:22:03.480630Z"
    }
   },
   "outputs": [
    {
     "data": {
      "text/plain": [
       "[<KerasTensor: shape=(None, None, 300) dtype=float32 (created by layer 'embedding_1')>,\n",
       " <KerasTensor: shape=(None, 240) dtype=float32 (created by layer 'lstm_1')>,\n",
       " <KerasTensor: shape=(None, 240) dtype=float32 (created by layer 'lstm_1')>]"
      ]
     },
     "execution_count": 42,
     "metadata": {},
     "output_type": "execute_result"
    }
   ],
   "source": [
    "model.layers[-2].input"
   ]
  },
  {
   "cell_type": "code",
   "execution_count": 43,
   "metadata": {
    "execution": {
     "iopub.execute_input": "2022-11-22T08:22:03.492507Z",
     "iopub.status.busy": "2022-11-22T08:22:03.492287Z",
     "iopub.status.idle": "2022-11-22T08:22:03.499851Z",
     "shell.execute_reply": "2022-11-22T08:22:03.499162Z",
     "shell.execute_reply.started": "2022-11-22T08:22:03.492476Z"
    }
   },
   "outputs": [],
   "source": [
    "callbacks = [\n",
    "    EarlyStopping(monitor='val_loss', mode='min', verbose=1, patience=2),\n",
    "    ReduceLROnPlateau(monitor='val_loss', factor=0.1, patience=2, min_lr=0.000001, verbose=1),\n",
    "]"
   ]
  },
  {
   "cell_type": "code",
   "execution_count": 44,
   "metadata": {
    "execution": {
     "iopub.execute_input": "2022-11-22T08:22:03.501220Z",
     "iopub.status.busy": "2022-11-22T08:22:03.501024Z",
     "iopub.status.idle": "2022-11-22T08:25:56.626947Z",
     "shell.execute_reply": "2022-11-22T08:25:56.626288Z",
     "shell.execute_reply.started": "2022-11-22T08:22:03.501198Z"
    }
   },
   "outputs": [
    {
     "name": "stdout",
     "output_type": "stream",
     "text": [
      "Epoch 1/50\n",
      "89/89 [==============================] - 38s 233ms/step - loss: 7.0053 - accuracy: 0.2498 - val_loss: 5.0884 - val_accuracy: 0.4320\n",
      "Epoch 2/50\n",
      "89/89 [==============================] - 4s 50ms/step - loss: 5.2004 - accuracy: 0.4184 - val_loss: 4.8967 - val_accuracy: 0.4363\n",
      "Epoch 3/50\n",
      "89/89 [==============================] - 4s 50ms/step - loss: 5.0158 - accuracy: 0.4231 - val_loss: 4.7046 - val_accuracy: 0.4407\n",
      "Epoch 4/50\n",
      "89/89 [==============================] - 4s 50ms/step - loss: 4.8015 - accuracy: 0.4277 - val_loss: 4.4797 - val_accuracy: 0.4486\n",
      "Epoch 5/50\n",
      "89/89 [==============================] - 5s 51ms/step - loss: 4.5615 - accuracy: 0.4351 - val_loss: 4.2952 - val_accuracy: 0.4542\n",
      "Epoch 6/50\n",
      "89/89 [==============================] - 5s 51ms/step - loss: 4.3521 - accuracy: 0.4421 - val_loss: 4.1759 - val_accuracy: 0.4591\n",
      "Epoch 7/50\n",
      "89/89 [==============================] - 5s 51ms/step - loss: 4.1839 - accuracy: 0.4486 - val_loss: 4.0669 - val_accuracy: 0.4636\n",
      "Epoch 8/50\n",
      "89/89 [==============================] - 5s 52ms/step - loss: 4.0374 - accuracy: 0.4554 - val_loss: 3.9289 - val_accuracy: 0.4726\n",
      "Epoch 9/50\n",
      "89/89 [==============================] - 5s 51ms/step - loss: 3.9010 - accuracy: 0.4614 - val_loss: 3.8430 - val_accuracy: 0.4758\n",
      "Epoch 10/50\n",
      "89/89 [==============================] - 5s 51ms/step - loss: 3.7753 - accuracy: 0.4679 - val_loss: 3.7598 - val_accuracy: 0.4824\n",
      "Epoch 11/50\n",
      "89/89 [==============================] - 5s 52ms/step - loss: 3.6557 - accuracy: 0.4747 - val_loss: 3.7208 - val_accuracy: 0.4816\n",
      "Epoch 12/50\n",
      "89/89 [==============================] - 5s 51ms/step - loss: 3.5605 - accuracy: 0.4803 - val_loss: 3.6173 - val_accuracy: 0.4908\n",
      "Epoch 13/50\n",
      "89/89 [==============================] - 5s 51ms/step - loss: 3.4595 - accuracy: 0.4861 - val_loss: 3.5518 - val_accuracy: 0.4966\n",
      "Epoch 14/50\n",
      "89/89 [==============================] - 5s 51ms/step - loss: 3.3752 - accuracy: 0.4911 - val_loss: 3.5331 - val_accuracy: 0.4970\n",
      "Epoch 15/50\n",
      "89/89 [==============================] - 5s 51ms/step - loss: 3.3004 - accuracy: 0.4955 - val_loss: 3.4621 - val_accuracy: 0.5026\n",
      "Epoch 16/50\n",
      "89/89 [==============================] - 5s 51ms/step - loss: 3.2234 - accuracy: 0.5009 - val_loss: 3.4290 - val_accuracy: 0.5059\n",
      "Epoch 17/50\n",
      "89/89 [==============================] - 5s 51ms/step - loss: 3.1496 - accuracy: 0.5065 - val_loss: 3.3850 - val_accuracy: 0.5106\n",
      "Epoch 18/50\n",
      "89/89 [==============================] - 5s 51ms/step - loss: 3.0851 - accuracy: 0.5109 - val_loss: 3.3605 - val_accuracy: 0.5111\n",
      "Epoch 19/50\n",
      "89/89 [==============================] - 5s 51ms/step - loss: 3.0256 - accuracy: 0.5153 - val_loss: 3.3504 - val_accuracy: 0.5109\n",
      "Epoch 20/50\n",
      "89/89 [==============================] - 5s 51ms/step - loss: 2.9694 - accuracy: 0.5191 - val_loss: 3.3357 - val_accuracy: 0.5102\n",
      "Epoch 21/50\n",
      "89/89 [==============================] - 5s 51ms/step - loss: 2.9121 - accuracy: 0.5244 - val_loss: 3.3004 - val_accuracy: 0.5163\n",
      "Epoch 22/50\n",
      "89/89 [==============================] - 5s 51ms/step - loss: 2.8620 - accuracy: 0.5279 - val_loss: 3.2571 - val_accuracy: 0.5202\n",
      "Epoch 23/50\n",
      "89/89 [==============================] - 5s 52ms/step - loss: 2.8128 - accuracy: 0.5315 - val_loss: 3.2391 - val_accuracy: 0.5228\n",
      "Epoch 24/50\n",
      "89/89 [==============================] - 5s 52ms/step - loss: 2.7610 - accuracy: 0.5363 - val_loss: 3.2512 - val_accuracy: 0.5197\n",
      "Epoch 25/50\n",
      "89/89 [==============================] - 5s 52ms/step - loss: 2.7189 - accuracy: 0.5398 - val_loss: 3.2176 - val_accuracy: 0.5230\n",
      "Epoch 26/50\n",
      "89/89 [==============================] - 4s 50ms/step - loss: 2.6755 - accuracy: 0.5434 - val_loss: 3.1829 - val_accuracy: 0.5274\n",
      "Epoch 27/50\n",
      "89/89 [==============================] - 4s 49ms/step - loss: 2.6281 - accuracy: 0.5478 - val_loss: 3.1877 - val_accuracy: 0.5266\n",
      "Epoch 28/50\n",
      "89/89 [==============================] - 4s 50ms/step - loss: 2.5918 - accuracy: 0.5511 - val_loss: 3.1738 - val_accuracy: 0.5291\n",
      "Epoch 29/50\n",
      "89/89 [==============================] - 4s 50ms/step - loss: 2.5506 - accuracy: 0.5549 - val_loss: 3.1570 - val_accuracy: 0.5310\n",
      "Epoch 30/50\n",
      "89/89 [==============================] - 4s 50ms/step - loss: 2.5134 - accuracy: 0.5585 - val_loss: 3.1556 - val_accuracy: 0.5294\n",
      "Epoch 31/50\n",
      "89/89 [==============================] - 4s 50ms/step - loss: 2.4775 - accuracy: 0.5617 - val_loss: 3.1311 - val_accuracy: 0.5330\n",
      "Epoch 32/50\n",
      "89/89 [==============================] - 4s 50ms/step - loss: 2.4416 - accuracy: 0.5654 - val_loss: 3.1303 - val_accuracy: 0.5327\n",
      "Epoch 33/50\n",
      "89/89 [==============================] - 4s 50ms/step - loss: 2.4099 - accuracy: 0.5685 - val_loss: 3.1256 - val_accuracy: 0.5328\n",
      "Epoch 34/50\n",
      "89/89 [==============================] - 4s 50ms/step - loss: 2.3826 - accuracy: 0.5708 - val_loss: 3.1110 - val_accuracy: 0.5343\n",
      "Epoch 35/50\n",
      "89/89 [==============================] - 4s 50ms/step - loss: 2.3456 - accuracy: 0.5748 - val_loss: 3.1233 - val_accuracy: 0.5332\n",
      "Epoch 36/50\n",
      "89/89 [==============================] - 5s 51ms/step - loss: 2.3235 - accuracy: 0.5770 - val_loss: 3.1059 - val_accuracy: 0.5365\n",
      "Epoch 37/50\n",
      "89/89 [==============================] - 4s 50ms/step - loss: 2.2958 - accuracy: 0.5806 - val_loss: 3.1097 - val_accuracy: 0.5339\n",
      "Epoch 38/50\n",
      "89/89 [==============================] - 4s 50ms/step - loss: 2.2590 - accuracy: 0.5844 - val_loss: 3.0948 - val_accuracy: 0.5377\n",
      "Epoch 39/50\n",
      "89/89 [==============================] - 4s 50ms/step - loss: 2.2324 - accuracy: 0.5877 - val_loss: 3.0927 - val_accuracy: 0.5393\n",
      "Epoch 40/50\n",
      "89/89 [==============================] - 4s 50ms/step - loss: 2.2064 - accuracy: 0.5903 - val_loss: 3.0828 - val_accuracy: 0.5394\n",
      "Epoch 41/50\n",
      "89/89 [==============================] - 4s 50ms/step - loss: 2.1819 - accuracy: 0.5932 - val_loss: 3.0926 - val_accuracy: 0.5373\n",
      "Epoch 42/50\n",
      "89/89 [==============================] - 4s 50ms/step - loss: 2.1576 - accuracy: 0.5956 - val_loss: 3.0773 - val_accuracy: 0.5409\n",
      "Epoch 43/50\n",
      "89/89 [==============================] - 4s 50ms/step - loss: 2.1383 - accuracy: 0.5980 - val_loss: 3.0821 - val_accuracy: 0.5392\n",
      "Epoch 44/50\n",
      "89/89 [==============================] - 4s 50ms/step - loss: 2.1154 - accuracy: 0.6011 - val_loss: 3.0854 - val_accuracy: 0.5402\n",
      "\n",
      "Epoch 00044: ReduceLROnPlateau reducing learning rate to 0.00010000000474974513.\n",
      "Epoch 00044: early stopping\n"
     ]
    }
   ],
   "source": [
    "history = model.fit(\n",
    "    [x_train_padded, y_train_padded[:, :-1]],\n",
    "    y_train_padded.reshape(y_train_padded.shape[0], y_train_padded.shape[1], 1)[:, 1:],\n",
    "    epochs=num_epochs,\n",
    "    batch_size=128 * tpu_strategy.num_replicas_in_sync,\n",
    "    callbacks=callbacks,\n",
    "    validation_data=(\n",
    "        [x_val_padded, y_val_padded[:, :-1]],\n",
    "        y_val_padded.reshape(y_val_padded.shape[0], y_val_padded.shape[1], 1)[:, 1:]\n",
    "    )\n",
    ")"
   ]
  },
  {
   "cell_type": "code",
   "execution_count": 45,
   "metadata": {
    "execution": {
     "iopub.execute_input": "2022-11-22T08:25:56.628931Z",
     "iopub.status.busy": "2022-11-22T08:25:56.628112Z",
     "iopub.status.idle": "2022-11-22T08:25:56.899699Z",
     "shell.execute_reply": "2022-11-22T08:25:56.898771Z",
     "shell.execute_reply.started": "2022-11-22T08:25:56.628898Z"
    }
   },
   "outputs": [
    {
     "data": {
      "text/plain": [
       "<matplotlib.legend.Legend at 0x7fe7da35a110>"
      ]
     },
     "execution_count": 45,
     "metadata": {},
     "output_type": "execute_result"
    },
    {
     "data": {
      "image/png": "[encoded data removed]",
      "text/plain": [
       "<Figure size 432x288 with 1 Axes>"
      ]
     },
     "metadata": {
      "needs_background": "light"
     },
     "output_type": "display_data"
    }
   ],
   "source": [
    "# Accuracy\n",
    "plt.plot(history.history['accuracy'][1:], label='train acc')\n",
    "plt.plot(history.history['val_accuracy'], label='val')\n",
    "plt.xlabel('Epoch')\n",
    "plt.ylabel('Accuracy')\n",
    "plt.legend(loc='lower right')"
   ]
  },
  {
   "cell_type": "code",
   "execution_count": 46,
   "metadata": {
    "execution": {
     "iopub.execute_input": "2022-11-22T08:25:56.901003Z",
     "iopub.status.busy": "2022-11-22T08:25:56.900775Z",
     "iopub.status.idle": "2022-11-22T08:25:57.142761Z",
     "shell.execute_reply": "2022-11-22T08:25:57.141966Z",
     "shell.execute_reply.started": "2022-11-22T08:25:56.900976Z"
    }
   },
   "outputs": [
    {
     "data": {
      "text/plain": [
       "<matplotlib.legend.Legend at 0x7fe7d8b92dd0>"
      ]
     },
     "execution_count": 46,
     "metadata": {},
     "output_type": "execute_result"
    },
    {
     "data": {
      "image/png": "[encoded data removed]",
      "text/plain": [
       "<Figure size 432x288 with 1 Axes>"
      ]
     },
     "metadata": {
      "needs_background": "light"
     },
     "output_type": "display_data"
    }
   ],
   "source": [
    "# Loss\n",
    "plt.plot(history.history['loss'][1:], label='train loss')\n",
    "plt.plot(history.history['val_loss'], label='val')\n",
    "plt.xlabel('Epoch')\n",
    "plt.ylabel('Loss')\n",
    "plt.legend(loc='lower right')"
   ]
  },
  {
   "cell_type": "code",
   "execution_count": 47,
   "metadata": {
    "execution": {
     "iopub.execute_input": "2022-11-22T08:25:57.144154Z",
     "iopub.status.busy": "2022-11-22T08:25:57.143915Z",
     "iopub.status.idle": "2022-11-22T08:25:57.148119Z",
     "shell.execute_reply": "2022-11-22T08:25:57.147465Z",
     "shell.execute_reply.started": "2022-11-22T08:25:57.144128Z"
    }
   },
   "outputs": [],
   "source": [
    "# Next, let’s build the dictionary to convert the index to word for target and source vocabulary:\n",
    "reverse_target_word_index = y_tokenizer.index_word\n",
    "reverse_source_word_index = x_tokenizer.index_word\n",
    "target_word_index = y_tokenizer.word_index"
   ]
  },
  {
   "cell_type": "code",
   "execution_count": 48,
   "metadata": {
    "execution": {
     "iopub.execute_input": "2022-11-22T08:25:57.149841Z",
     "iopub.status.busy": "2022-11-22T08:25:57.149095Z",
     "iopub.status.idle": "2022-11-22T08:25:57.160436Z",
     "shell.execute_reply": "2022-11-22T08:25:57.159722Z",
     "shell.execute_reply.started": "2022-11-22T08:25:57.149798Z"
    }
   },
   "outputs": [],
   "source": [
    "def build_seq2seq_model_with_just_lstm_inference(\n",
    "    max_text_len, latent_dim, encoder_input, encoder_output,\n",
    "    encoder_final_states, decoder_input, decoder_output,\n",
    "    decoder_embedding_layer, decoder_dense, last_decoder_lstm\n",
    "):\n",
    "    # Encode the input sequence to get the feature vector\n",
    "    encoder_model = Model(\n",
    "        inputs=encoder_input, outputs=[encoder_output] + encoder_final_states\n",
    "    )\n",
    "\n",
    "    # Decoder setup\n",
    "    # Below tensors will hold the states of the previous time step\n",
    "    decoder_state_input_h = Input(shape=(latent_dim, ))\n",
    "    decoder_state_input_c = Input(shape=(latent_dim, ))\n",
    "    decoder_hidden_state_input = Input(shape=(max_text_len, latent_dim))\n",
    "\n",
    "    # Get the embeddings of the decoder sequence\n",
    "    decoder_embedding = decoder_embedding_layer(decoder_input)\n",
    "\n",
    "    # To predict the next word in the sequence, set the initial\n",
    "    # states to the states from the previous time step\n",
    "    decoder_output, *decoder_states = last_decoder_lstm(\n",
    "        decoder_embedding,\n",
    "        initial_state=[decoder_state_input_h, decoder_state_input_c]\n",
    "    )\n",
    "\n",
    "    # A dense softmax layer to generate prob dist. over the target vocabulary\n",
    "    decoder_output = decoder_dense(decoder_output)\n",
    "\n",
    "    # Final decoder model\n",
    "    decoder_model = Model(\n",
    "        [decoder_input] + [decoder_hidden_state_input, decoder_state_input_h, decoder_state_input_c], \n",
    "        [decoder_output] + decoder_states\n",
    "    )\n",
    "\n",
    "    return (encoder_model, decoder_model)"
   ]
  },
  {
   "cell_type": "code",
   "execution_count": 49,
   "metadata": {
    "execution": {
     "iopub.execute_input": "2022-11-22T08:25:57.161795Z",
     "iopub.status.busy": "2022-11-22T08:25:57.161570Z",
     "iopub.status.idle": "2022-11-22T08:25:57.331611Z",
     "shell.execute_reply": "2022-11-22T08:25:57.330738Z",
     "shell.execute_reply.started": "2022-11-22T08:25:57.161766Z"
    }
   },
   "outputs": [],
   "source": [
    "encoder_model, decoder_model = build_seq2seq_model_with_just_lstm_inference(\n",
    "    max_text_len, latent_dim, encoder_input, encoder_output,\n",
    "    encoder_final_states, decoder_input, decoder_output,\n",
    "    decoder_embedding_layer, decoder_dense, last_decoder_lstm\n",
    ")"
   ]
  },
  {
   "cell_type": "code",
   "execution_count": 50,
   "metadata": {
    "execution": {
     "iopub.execute_input": "2022-11-22T08:25:57.332865Z",
     "iopub.status.busy": "2022-11-22T08:25:57.332632Z",
     "iopub.status.idle": "2022-11-22T08:25:57.341752Z",
     "shell.execute_reply": "2022-11-22T08:25:57.340836Z",
     "shell.execute_reply.started": "2022-11-22T08:25:57.332839Z"
    }
   },
   "outputs": [
    {
     "name": "stdout",
     "output_type": "stream",
     "text": [
      "Model: \"model_1\"\n",
      "_________________________________________________________________\n",
      "Layer (type)                 Output Shape              Param #   \n",
      "=================================================================\n",
      "input_1 (InputLayer)         [(None, 42)]              0         \n",
      "_________________________________________________________________\n",
      "embedding (Embedding)        (None, 42, 300)           29957700  \n",
      "_________________________________________________________________\n",
      "lstm (LSTM)                  [(None, 42, 240), (None,  519360    \n",
      "_________________________________________________________________\n",
      "lstm_1 (LSTM)                [(None, 42, 240), (None,  461760    \n",
      "=================================================================\n",
      "Total params: 30,938,820\n",
      "Trainable params: 981,120\n",
      "Non-trainable params: 29,957,700\n",
      "_________________________________________________________________\n"
     ]
    }
   ],
   "source": [
    "encoder_model.summary()"
   ]
  },
  {
   "cell_type": "code",
   "execution_count": 51,
   "metadata": {
    "execution": {
     "iopub.execute_input": "2022-11-22T08:25:57.343496Z",
     "iopub.status.busy": "2022-11-22T08:25:57.343049Z",
     "iopub.status.idle": "2022-11-22T08:25:57.355788Z",
     "shell.execute_reply": "2022-11-22T08:25:57.354999Z",
     "shell.execute_reply.started": "2022-11-22T08:25:57.343465Z"
    }
   },
   "outputs": [
    {
     "name": "stdout",
     "output_type": "stream",
     "text": [
      "Model: \"model_2\"\n",
      "__________________________________________________________________________________________________\n",
      "Layer (type)                    Output Shape         Param #     Connected to                     \n",
      "==================================================================================================\n",
      "input_2 (InputLayer)            [(None, None)]       0                                            \n",
      "__________________________________________________________________________________________________\n",
      "embedding_1 (Embedding)         (None, None, 300)    11232300    input_2[0][0]                    \n",
      "__________________________________________________________________________________________________\n",
      "input_3 (InputLayer)            [(None, 240)]        0                                            \n",
      "__________________________________________________________________________________________________\n",
      "input_4 (InputLayer)            [(None, 240)]        0                                            \n",
      "__________________________________________________________________________________________________\n",
      "lstm_2 (LSTM)                   [(None, None, 240),  519360      embedding_1[1][0]                \n",
      "                                                                 input_3[0][0]                    \n",
      "                                                                 input_4[0][0]                    \n",
      "__________________________________________________________________________________________________\n",
      "input_5 (InputLayer)            [(None, 42, 240)]    0                                            \n",
      "__________________________________________________________________________________________________\n",
      "time_distributed (TimeDistribut (None, None, 37441)  9023281     lstm_2[1][0]                     \n",
      "==================================================================================================\n",
      "Total params: 20,774,941\n",
      "Trainable params: 20,774,941\n",
      "Non-trainable params: 0\n",
      "__________________________________________________________________________________________________\n"
     ]
    }
   ],
   "source": [
    "decoder_model.summary()"
   ]
  },
  {
   "cell_type": "code",
   "execution_count": 52,
   "metadata": {
    "execution": {
     "iopub.execute_input": "2022-11-22T08:25:57.357641Z",
     "iopub.status.busy": "2022-11-22T08:25:57.357269Z",
     "iopub.status.idle": "2022-11-22T08:25:57.367786Z",
     "shell.execute_reply": "2022-11-22T08:25:57.367114Z",
     "shell.execute_reply.started": "2022-11-22T08:25:57.357603Z"
    }
   },
   "outputs": [
    {
     "data": {
      "text/plain": [
       "[<KerasTensor: shape=(None, None, 300) dtype=float32 (created by layer 'embedding_1')>,\n",
       " <KerasTensor: shape=(None, 240) dtype=float32 (created by layer 'lstm_1')>,\n",
       " <KerasTensor: shape=(None, 240) dtype=float32 (created by layer 'lstm_1')>]"
      ]
     },
     "execution_count": 52,
     "metadata": {},
     "output_type": "execute_result"
    }
   ],
   "source": [
    "decoder_model.layers[-3].input"
   ]
  },
  {
   "cell_type": "code",
   "execution_count": 53,
   "metadata": {
    "execution": {
     "iopub.execute_input": "2022-11-22T08:25:57.368937Z",
     "iopub.status.busy": "2022-11-22T08:25:57.368718Z",
     "iopub.status.idle": "2022-11-22T08:25:57.378776Z",
     "shell.execute_reply": "2022-11-22T08:25:57.377928Z",
     "shell.execute_reply.started": "2022-11-22T08:25:57.368913Z"
    }
   },
   "outputs": [],
   "source": [
    "def decode_sequence_seq2seq_model_with_just_lstm(\n",
    "    input_sequence, encoder_model, decoder_model\n",
    "):\n",
    "    # Encode the input as state vectors.\n",
    "    e_out, e_h, e_c = encoder_model.predict(input_sequence)\n",
    "\n",
    "    # Generate empty target sequence of length 1.\n",
    "    target_seq = np.zeros((1, 1))\n",
    "\n",
    "    # Populate the first word of target sequence with the start word.\n",
    "    target_seq[0, 0] = target_word_index[start_token]\n",
    "\n",
    "    stop_condition = False\n",
    "    decoded_sentence = ''\n",
    "\n",
    "    while not stop_condition:\n",
    "        output_tokens, h, c = decoder_model.predict(\n",
    "            [target_seq] + [e_out, e_h, e_c]\n",
    "        )\n",
    "\n",
    "        # Sample a token\n",
    "        sampled_token_index = np.argmax(output_tokens[0, -1, :])\n",
    "        sampled_token = reverse_target_word_index[sampled_token_index]\n",
    "\n",
    "        if sampled_token != end_token:\n",
    "            decoded_sentence += ' ' + sampled_token\n",
    "\n",
    "        # Exit condition: either hit max length or find stop word.\n",
    "        if (sampled_token == end_token) or (len(decoded_sentence.split()) >= (max_summary_len - 1)):\n",
    "            stop_condition = True\n",
    "\n",
    "        # Update the target sequence (of length 1).\n",
    "        target_seq = np.zeros((1, 1))\n",
    "        target_seq[0, 0] = sampled_token_index\n",
    "\n",
    "        # Update internal states\n",
    "        e_h, e_c = h, c\n",
    "\n",
    "    return decoded_sentence"
   ]
  },
  {
   "cell_type": "code",
   "execution_count": 54,
   "metadata": {
    "execution": {
     "iopub.execute_input": "2022-11-22T08:25:57.380297Z",
     "iopub.status.busy": "2022-11-22T08:25:57.380060Z",
     "iopub.status.idle": "2022-11-22T08:25:57.395521Z",
     "shell.execute_reply": "2022-11-22T08:25:57.394765Z",
     "shell.execute_reply.started": "2022-11-22T08:25:57.380272Z"
    }
   },
   "outputs": [],
   "source": [
    "def seq2summary(input_sequence):\n",
    "    new_string = ''\n",
    "    for i in input_sequence:\n",
    "        if (\n",
    "            (i != 0 and i != target_word_index[start_token]) and\n",
    "            (i != target_word_index[end_token])\n",
    "        ):\n",
    "            new_string = new_string + reverse_target_word_index[i] + ' '\n",
    "    return new_string"
   ]
  },
  {
   "cell_type": "code",
   "execution_count": 55,
   "metadata": {
    "execution": {
     "iopub.execute_input": "2022-11-22T08:25:57.397040Z",
     "iopub.status.busy": "2022-11-22T08:25:57.396746Z",
     "iopub.status.idle": "2022-11-22T08:25:57.404854Z",
     "shell.execute_reply": "2022-11-22T08:25:57.404215Z",
     "shell.execute_reply.started": "2022-11-22T08:25:57.397003Z"
    }
   },
   "outputs": [],
   "source": [
    "def seq2text(input_sequence):\n",
    "    new_string = ''\n",
    "    for i in input_sequence:\n",
    "        if i != 0:\n",
    "            new_string = new_string + reverse_source_word_index[i] + ' '\n",
    "    return new_string"
   ]
  },
  {
   "cell_type": "code",
   "execution_count": 56,
   "metadata": {
    "execution": {
     "iopub.execute_input": "2022-11-22T08:25:57.406129Z",
     "iopub.status.busy": "2022-11-22T08:25:57.405815Z",
     "iopub.status.idle": "2022-11-22T08:25:57.419316Z",
     "shell.execute_reply": "2022-11-22T08:25:57.418420Z",
     "shell.execute_reply.started": "2022-11-22T08:25:57.406062Z"
    }
   },
   "outputs": [],
   "source": [
    "def predict_text(text, decode_sequence, encoder_model, decoder_model):\n",
    "    original_text = text\n",
    "    text = clean_text([text])  # generator\n",
    "    text_list = original_text.split()\n",
    "\n",
    "    if len(text_list) <= max_text_len:\n",
    "        text = expand_contractions(text)\n",
    "        text = clean_text(text)\n",
    "        text = f'_START_ {text} _END_'\n",
    "        text = f'{start_token} {text} {end_token}'\n",
    "\n",
    "        seq = x_tokenizer.texts_to_sequences([' '.join(text_list)])\n",
    "        padded = pad_sequences(seq, maxlen=max_text_len, padding='post')\n",
    "        pred_summary = decode_sequence(\n",
    "            padded.reshape(1, max_text_len), encoder_model, decoder_model\n",
    "        )\n",
    "        return pred_summary\n",
    "    else:\n",
    "        pred_summary = ''\n",
    "\n",
    "        # breaking long texts to individual max_text_len texts and predicting on them\n",
    "        while len(text_list) % max_text_len == 0:\n",
    "            text_list.append('')\n",
    "\n",
    "        lst_i = max_text_len\n",
    "        for i in range(0, len(text_list), max_text_len):\n",
    "            _text_list = original_text.split()[i:i + lst_i]\n",
    "            _text = ' '.join(_text_list)\n",
    "            _text = ' '.join(\n",
    "                _text.split()\n",
    "            )  # to remove spaces that were added to make len(text_list) % max_text_len == 0\n",
    "\n",
    "            _text = expand_contractions(_text)\n",
    "            _text = clean_text(_text)  # generator\n",
    "            _text = f'_START_ {_text} _END_'\n",
    "            _text = f'{start_token} {_text} {end_token}'\n",
    "            # print(_text, '\\n')\n",
    "\n",
    "            _seq = x_tokenizer.texts_to_sequences([_text])\n",
    "            _padded = pad_sequences(_seq, maxlen=max_text_len, padding='post')\n",
    "            _pred = decode_sequence(\n",
    "                _padded.reshape(1, max_text_len), encoder_model, decoder_model\n",
    "            )\n",
    "            pred_summary += ' ' + ' '.join(_pred.split()[1:-2])\n",
    "            pred_summary = ' '.join(pred_summary.split())\n",
    "\n",
    "        return pred_summary"
   ]
  },
  {
   "cell_type": "code",
   "execution_count": 57,
   "metadata": {
    "execution": {
     "iopub.execute_input": "2022-11-22T08:25:57.421283Z",
     "iopub.status.busy": "2022-11-22T08:25:57.420867Z",
     "iopub.status.idle": "2022-11-22T08:26:10.992862Z",
     "shell.execute_reply": "2022-11-22T08:26:10.992102Z",
     "shell.execute_reply.started": "2022-11-22T08:25:57.421251Z"
    }
   },
   "outputs": [],
   "source": [
    "model_out=[]\n",
    "for i in range(0, 15):\n",
    "    predict_summary=decode_sequence_seq2seq_model_with_just_lstm(\n",
    "            x_train_padded[i].reshape(1, max_text_len), encoder_model,\n",
    "            decoder_model\n",
    "        )\n",
    "    model_out.append(predict_summary)"
   ]
  },
  {
   "cell_type": "code",
   "execution_count": 59,
   "metadata": {
    "execution": {
     "iopub.execute_input": "2022-11-22T08:28:03.576313Z",
     "iopub.status.busy": "2022-11-22T08:28:03.575926Z",
     "iopub.status.idle": "2022-11-22T08:28:03.583563Z",
     "shell.execute_reply": "2022-11-22T08:28:03.582514Z",
     "shell.execute_reply.started": "2022-11-22T08:28:03.576272Z"
    }
   },
   "outputs": [],
   "source": [
    "reference=[]\n",
    "for i in range(0,15):\n",
    "    original_summary=seq2summary(y_train_padded[i])\n",
    "    reference.append(original_summary)"
   ]
  },
  {
   "cell_type": "code",
   "execution_count": 60,
   "metadata": {
    "execution": {
     "iopub.execute_input": "2022-11-22T08:28:08.563953Z",
     "iopub.status.busy": "2022-11-22T08:28:08.563677Z",
     "iopub.status.idle": "2022-11-22T08:28:16.376011Z",
     "shell.execute_reply": "2022-11-22T08:28:16.374869Z",
     "shell.execute_reply.started": "2022-11-22T08:28:08.563926Z"
    }
   },
   "outputs": [
    {
     "name": "stdout",
     "output_type": "stream",
     "text": [
      "Requirement already satisfied: rouge in /opt/conda/lib/python3.7/site-packages (1.0.1)\n",
      "Requirement already satisfied: six in /opt/conda/lib/python3.7/site-packages (from rouge) (1.15.0)\n",
      "\u001b[33mWARNING: Running pip as the 'root' user can result in broken permissions and conflicting behaviour with the system package manager. It is recommended to use a virtual environment instead: https://pip.pypa.io/warnings/venv\u001b[0m\n",
      "Note: you may need to restart the kernel to use updated packages.\n"
     ]
    }
   ],
   "source": [
    "pip install rouge"
   ]
  },
  {
   "cell_type": "code",
   "execution_count": 61,
   "metadata": {
    "execution": {
     "iopub.execute_input": "2022-11-22T08:28:22.919261Z",
     "iopub.status.busy": "2022-11-22T08:28:22.918934Z",
     "iopub.status.idle": "2022-11-22T08:28:22.926951Z",
     "shell.execute_reply": "2022-11-22T08:28:22.925898Z",
     "shell.execute_reply.started": "2022-11-22T08:28:22.919225Z"
    }
   },
   "outputs": [],
   "source": [
    "from rouge import Rouge"
   ]
  },
  {
   "cell_type": "code",
   "execution_count": 62,
   "metadata": {
    "execution": {
     "iopub.execute_input": "2022-11-22T08:28:26.883284Z",
     "iopub.status.busy": "2022-11-22T08:28:26.882956Z",
     "iopub.status.idle": "2022-11-22T08:28:26.887603Z",
     "shell.execute_reply": "2022-11-22T08:28:26.886773Z",
     "shell.execute_reply.started": "2022-11-22T08:28:26.883251Z"
    }
   },
   "outputs": [],
   "source": [
    "rouge = Rouge()"
   ]
  },
  {
   "cell_type": "code",
   "execution_count": 63,
   "metadata": {
    "execution": {
     "iopub.execute_input": "2022-11-22T08:28:46.146435Z",
     "iopub.status.busy": "2022-11-22T08:28:46.146112Z",
     "iopub.status.idle": "2022-11-22T08:28:46.174616Z",
     "shell.execute_reply": "2022-11-22T08:28:46.173763Z",
     "shell.execute_reply.started": "2022-11-22T08:28:46.146404Z"
    }
   },
   "outputs": [
    {
     "data": {
      "text/plain": [
       "{'rouge-1': {'r': 0.4698508898508898,\n",
       "  'p': 0.5562698412698412,\n",
       "  'f': 0.5054978082354765},\n",
       " 'rouge-2': {'r': 0.10925925925925925,\n",
       "  'p': 0.12642857142857142,\n",
       "  'f': 0.11645191180184716},\n",
       " 'rouge-l': {'r': 0.45503607503607496,\n",
       "  'p': 0.5384126984126983,\n",
       "  'f': 0.48932133764724123}}"
      ]
     },
     "execution_count": 63,
     "metadata": {},
     "output_type": "execute_result"
    }
   ],
   "source": [
    "rouge.get_scores(model_out, reference, avg=True)"
   ]
  },
  {
   "cell_type": "code",
   "execution_count": 64,
   "metadata": {
    "execution": {
     "iopub.execute_input": "2022-11-22T08:29:05.431453Z",
     "iopub.status.busy": "2022-11-22T08:29:05.431126Z",
     "iopub.status.idle": "2022-11-22T08:29:16.735393Z",
     "shell.execute_reply": "2022-11-22T08:29:16.734498Z",
     "shell.execute_reply.started": "2022-11-22T08:29:05.431423Z"
    }
   },
   "outputs": [
    {
     "name": "stdout",
     "output_type": "stream",
     "text": [
      "# 1 News:  somalian jihadist fundamentalist group alshabaab announced ban plastic bags territories controls saying discarded bags pose serious threat wellbeing humans animals alike group also issued immediate ban logging indigenous trees notably alqaeda affiliate carried suicide attacks massacres across east africa \n",
      "Original summary:  start jihadists announce ban plastic bags protect humans end \n",
      "Predicted summary:   start iran bans plastic bags plastic bags ban end\n",
      "\n",
      "# 2 News:  iit kanpur monday suspended students three years six students one year freshers alleged ragged forced strip second year btech students students directed vacate hostel rooms allowed resume studies suspension ends iit kanpur deputy director manindra agrawal said \n",
      "Original summary:  start iit kanpur suspends students years ragging end \n",
      "Predicted summary:   start jnu students suspended ragging ors end\n",
      "\n",
      "# 3 News:  west hollywood city council us voted unanimously remove us president donald trumps star hollywood walk fame council cited trumps disturbing treatment women actions voting favour move resolution adopted council urged hollywood chamber commerce remove star \n",
      "Original summary:  start city council votes remove trump hwood walk fame star end \n",
      "Predicted summary:   start mexican city bans hollywood club president trump end\n",
      "\n",
      "# 4 News:  pacer sreesanth filed petition kerala high court revoke life ban imposed bcci ipl spotfixing scandal bcci yet lift ban despite delhi court giving clean chit recently denied noc bcci play scotland kerala \n",
      "Original summary:  start sreesanth files petition kerala hc life ban end \n",
      "Predicted summary:   start sreesanth fined aaa1 crore kerala hc ban end\n",
      "\n",
      "# 5 News:  yearold uttar pradesh police constable beaten mob allegedly raping sevenyearold girl near home surajpur wednesday police informed incident people thrashed two hours accuseds neighbour said constable arrested child sent medical test \n",
      "Original summary:  start cop rapes yearold girl gets thrashed mob end \n",
      "Predicted summary:   start police constable rapes yrold girl raped murdered end\n",
      "\n",
      "# 6 News:  congress rjd claimed reports alleged assassination plan pm narendra modi planted union minister kiren rijiju said outrageous unsavoury wicked congress party destroyed norms civility polity long among humans let us humane added \n",
      "Original summary:  start congs reaction news threat pm modi wicked bjp end \n",
      "Predicted summary:   start demonetisation dustbin pm modi end\n",
      "\n",
      "# 7 News:  retired lance naik yagya pratap singh jailed six months viral video exposing army sahayak system released jail adding fight continue said acquired required documents rti claimed family released video without knowing army rules taken custody \n",
      "Original summary:  start soldier jailed exposing army sahayak system released end \n",
      "Predicted summary:   start jailed years jail carrying army sahayak system end\n",
      "\n",
      "# 8 News:  study dismissed possibility travelling one point space another wormhole wormholes according einsteins theory quantum corrections critically unstable said lead author roman konoplya wormholes traversable collapse gravitational effects repulsion force bottleneck extremely high konoplya added \n",
      "Original summary:  start travelling wormholes possible study suggests end \n",
      "Predicted summary:   start ai predicts planet could fly study end\n",
      "\n",
      "# 9 News:  ryanair denbound flight forced make emergency landing friday losing one two nose wheels takeoff flight left london stansted airport local time diverted east midlands airport landed several flights delayed ryanair said aircraft landed safely \n",
      "Original summary:  start ryanair flight loses wheel midair makes emergency landing end \n",
      "Predicted summary:   start plane makes emergency landing engine fails landing end\n",
      "\n",
      "# 10 News:  jharkhand police arrested four people allegedly gangraped murdered yearold revenge family voting accuseds wife panchayat elections police said accused kidnapped girl left home relieve later hid body forest accused confessed crime police added \n",
      "Original summary:  start jkhand minor raped family vote accuseds wife end \n",
      "Predicted summary:   start man kills people including dalit family end\n",
      "\n",
      "# 11 News:  modelactor milind soman wife ankita konwar got ied year take part twelfth season reality show bigg boss per reports show reportedly feature contestants pairs season six celebrity pairs seven noncelebrity pairs featured show reports added \n",
      "Original summary:  start milind wife ankita take part bigg boss reports end \n",
      "Predicted summary:   start milind soman wife ankita lokhande reports end\n",
      "\n",
      "# 12 News:  around female students madhya pradeshs dr hari singh gour university protested sunday alleging stripsearched hostel warden used sanitary pad found hostel premises warden along caretaker carried search find student menstruating responsible disposing pad properly \n",
      "Original summary:  start girls protest stripsearch used sanitary pad hostel end \n",
      "Predicted summary:   start students suspended stripsearch girls hostel rooms end\n",
      "\n",
      "# 13 News:  mumbai university mu officials said delay aring results previous semesters examinations affect schedule upcoming examinations committees comprising university faculty officials constituted fix dates exams students university voiced concerns possibility examinations pushed back mber \n",
      "Original summary:  start delay results wonaaat affect upcoming examsaaa mu end \n",
      "Predicted summary:   start mumbai university results results end\n",
      "\n",
      "# 14 News:  fashion house viktorrolfs show haute couture week paris models walking runway giant doll heads headgear used patterned match outfits models wearing thought reality weird moment show surreal side reality said designer rolf snoeren \n",
      "Original summary:  start models wear giant doll heads runway viktorrolf show end \n",
      "Predicted summary:   start models walk walk ramp milan fashion week end\n",
      "\n",
      "# 15 News:  delhi high court wednesday ordered election commission issue notification bypolls seats vacated disqualified aap mlas till next hearing case ary legislators disqualified holding offices profit based ecs recommendation challenged disqualification court \n",
      "Original summary:  start delhi bypolls till next hc hearing office profit end \n",
      "Predicted summary:   start hc refuses aaps disqualification aap mlas delhi hc end\n",
      "\n"
     ]
    }
   ],
   "source": [
    "# Testing on training data\n",
    "for i in range(0, 15):\n",
    "    print(f\"# {i+1} News: \", seq2text(x_train_padded[i]))\n",
    "    print(\"Original summary: \", seq2summary(y_train_padded[i]))\n",
    "    print(\n",
    "        \"Predicted summary: \",\n",
    "        decode_sequence_seq2seq_model_with_just_lstm(\n",
    "            x_train_padded[i].reshape(1, max_text_len), encoder_model,\n",
    "            decoder_model\n",
    "        )\n",
    "    )\n",
    "    print()"
   ]
  },
  {
   "cell_type": "code",
   "execution_count": 65,
   "metadata": {
    "execution": {
     "iopub.execute_input": "2022-11-22T08:29:53.052557Z",
     "iopub.status.busy": "2022-11-22T08:29:53.051764Z",
     "iopub.status.idle": "2022-11-22T08:30:04.540158Z",
     "shell.execute_reply": "2022-11-22T08:30:04.539135Z",
     "shell.execute_reply.started": "2022-11-22T08:29:53.052511Z"
    }
   },
   "outputs": [],
   "source": [
    "model_out=[]\n",
    "for i in range(0, 15):\n",
    "    predict_summary=decode_sequence_seq2seq_model_with_just_lstm(\n",
    "            x_val_padded[i].reshape(1, max_text_len), encoder_model,\n",
    "            decoder_model\n",
    "        )\n",
    "    model_out.append(predict_summary)"
   ]
  },
  {
   "cell_type": "code",
   "execution_count": 66,
   "metadata": {
    "execution": {
     "iopub.execute_input": "2022-11-22T08:30:15.949040Z",
     "iopub.status.busy": "2022-11-22T08:30:15.948740Z",
     "iopub.status.idle": "2022-11-22T08:30:15.955321Z",
     "shell.execute_reply": "2022-11-22T08:30:15.954483Z",
     "shell.execute_reply.started": "2022-11-22T08:30:15.949011Z"
    }
   },
   "outputs": [],
   "source": [
    "reference=[]\n",
    "for i in range(0,15):\n",
    "    original_summary=seq2summary(y_val_padded[i])\n",
    "    reference.append(original_summary)"
   ]
  },
  {
   "cell_type": "code",
   "execution_count": 67,
   "metadata": {
    "execution": {
     "iopub.execute_input": "2022-11-22T08:30:22.460076Z",
     "iopub.status.busy": "2022-11-22T08:30:22.459207Z",
     "iopub.status.idle": "2022-11-22T08:30:22.463639Z",
     "shell.execute_reply": "2022-11-22T08:30:22.462952Z",
     "shell.execute_reply.started": "2022-11-22T08:30:22.460039Z"
    }
   },
   "outputs": [],
   "source": [
    "rouge = Rouge()"
   ]
  },
  {
   "cell_type": "code",
   "execution_count": 68,
   "metadata": {
    "execution": {
     "iopub.execute_input": "2022-11-22T08:30:25.753991Z",
     "iopub.status.busy": "2022-11-22T08:30:25.753549Z",
     "iopub.status.idle": "2022-11-22T08:30:25.762457Z",
     "shell.execute_reply": "2022-11-22T08:30:25.761695Z",
     "shell.execute_reply.started": "2022-11-22T08:30:25.753959Z"
    }
   },
   "outputs": [
    {
     "data": {
      "text/plain": [
       "{'rouge-1': {'r': 0.3821693121693121,\n",
       "  'p': 0.42899470899470893,\n",
       "  'f': 0.40084477291546217},\n",
       " 'rouge-2': {'r': 0.09259259259259259,\n",
       "  'p': 0.09669312169312169,\n",
       "  'f': 0.09403133671775593},\n",
       " 'rouge-l': {'r': 0.3726455026455026,\n",
       "  'p': 0.41947089947089944,\n",
       "  'f': 0.3913209633916527}}"
      ]
     },
     "execution_count": 68,
     "metadata": {},
     "output_type": "execute_result"
    }
   ],
   "source": [
    "rouge.get_scores(model_out, reference, avg=True)"
   ]
  },
  {
   "cell_type": "code",
   "execution_count": 69,
   "metadata": {
    "execution": {
     "iopub.execute_input": "2022-11-22T08:30:37.270732Z",
     "iopub.status.busy": "2022-11-22T08:30:37.270281Z",
     "iopub.status.idle": "2022-11-22T08:30:48.655307Z",
     "shell.execute_reply": "2022-11-22T08:30:48.654347Z",
     "shell.execute_reply.started": "2022-11-22T08:30:37.270700Z"
    }
   },
   "outputs": [
    {
     "name": "stdout",
     "output_type": "stream",
     "text": [
      "# 1 News:  pm narendra modi sunday paid tribute indian soldiers fought first world war war india directly involved yet soldiers fought world cause peace said india reiterates commitment towards world peace pledges work atmosphere harmony added \n",
      "Original summary:  start pm modi pays tribute indian soldiers fought wwi end \n",
      "Predicted summary:   start pm modi pays homage indian soldiers war war end\n",
      "\n",
      "# 2 News:  western railway ded deploy women ticket examiners coaches mumbaiahmedabad shatabdi express pilot basis sion taken two women checkers employed train trial basis following suspension two male ttes malpractices helping improve revenue collection aaa1 \n",
      "Original summary:  start mumbai shatabdi allwomen ticket checkers board end \n",
      "Predicted summary:   start railways train women apply coaches end\n",
      "\n",
      "# 3 News:  amazon indias flagship campaign apni connect customers remotest parts country facing copyright issue name apni ravi jains domain registered trade apni going request amazon remove references apni jain said \n",
      "Original summary:  start amazon india faces copyright issue apni campaign end \n",
      "Predicted summary:   start amazon launches amazon legal notice amazon end\n",
      "\n",
      "# 4 News:  staterun insurer lic lost money public sector bank investments last years per report however value lics investments private sector banks gone period notably indias insurance regulator permitted lic increase stake lossmaking idbi bank \n",
      "Original summary:  start lic lost money stateowned banks yrs end \n",
      "Predicted summary:   start financial loss aaa1 crore financial services end\n",
      "\n",
      "# 5 News:  yearold historian named appears photobombed lot media images showing police handling protesters recent summit germany adopting white bystander suit bike look slowed police attacks protesters blocking way providing activists time regroup retreat n \n",
      "Original summary:  start pictures historian photobombs protests end \n",
      "Predicted summary:   start german police officer slammed violence violence end\n",
      "\n",
      "# 6 News:  chinese flight passenger arrested mexico allegedly transporting swim bladders hundreds critically endangered fish granted conditional release paying aaa1 fine swim bladder used chinese traditional medicine sold aaa1 lakh black et \n",
      "Original summary:  start chinese flyer ct body parts endangered fish end \n",
      "Predicted summary:   start chinese man held smuggling cocaine flight end\n",
      "\n",
      "# 7 News:  union cabinet approved proposal revise pay allowances lieutenant governors union territories making par secretary government per revision lgs get monthly pay aaa1 plus dearness allowance local allowances \n",
      "Original summary:  start monthly salary lgs doubled aaa1 end \n",
      "Predicted summary:   start cabinet approves retirement salaries employees end\n",
      "\n",
      "# 8 News:  minister state finance santosh gangwar said lakh permanent account numbers pans deleted deactivated cases multiple pans allotted one person said fake pans identified allotted either nonexistent people names persons false identities \n",
      "Original summary:  start lakh duplicate pans deactivated govt end \n",
      "Predicted summary:   start lakh people get aadhaar number govt end\n",
      "\n",
      "# 9 News:  foreign portfolio investors sold indian equity debt worth aaa1 lakh crore first months year debt ets saw outflow aaa1 crore foreign investors sold local equities worth aaa1 crore ber saw net sales aaa1 crore steepest year since mber \n",
      "Original summary:  start foreign investors pull aaa1 lakh cr first months end \n",
      "Predicted summary:   start indian firms assets worth aaa1 crore cash fy end\n",
      "\n",
      "# 10 News:  muslim cleric arrested slapped farah faiz female advocate fighting triple talaq debate live tv show maulana arshad allegedly slapped slapped argument show arrested channel filed complaint \n",
      "Original summary:  start muslim cleric arrested slapping advocate live tv end \n",
      "Predicted summary:   start muslim man jailed wearing hijab muslim woman end\n",
      "\n",
      "# 11 News:  speaking missing ballon dor award year juventus portuguese forward cristiano ronaldo said think deserve win every year win end world respect sion field everything could win fivetime ballon dor winner said \n",
      "Original summary:  start end world win ballon dor ronaldo end \n",
      "Predicted summary:   start surprised ronaldo win world cup win end\n",
      "\n",
      "# 12 News:  tentime mp somnath chatterjee expelled cpim refused resign lok sabha speaker vote upa government noconfidence motion cpim withdrawn support upa opposition civil nuclear deal us chatterjee went complete term speaker \n",
      "Original summary:  start cpim expelled chatterjee refused quit speaker end \n",
      "Predicted summary:   start tdp mps resign mp parliament disruptions end\n",
      "\n",
      "# 13 News:  union defence minister nirmala sitharamans husband andhra pradesh governments communications advisor prabhakar tuesday resigned post claiming opposition using existence government mock government letter cm chandrababu naidu wrote today ysrcp chief jagan mohan reddy struggle commitment hurt lot \n",
      "Original summary:  start nirmala sitharamans husband quits andhra govt advisor end \n",
      "Predicted summary:   start andhra cm ministers resign ministers resign end\n",
      "\n",
      "# 14 News:  bharatiya ta partys suresh bhardwaj wednesday took oath minister himachal pradesh cabinet sanskrit ministers heard taking oath hindi bhardwaj shimla seat recently concluded state assembly elections administered oath governor acharya devvrat \n",
      "Original summary:  start himachal minister suresh bhardwaj takes oath sanskrit end \n",
      "Predicted summary:   start himachal pradesh minister resigns bjp ministers end\n",
      "\n",
      "# 15 News:  nike customers burnt shoes destroyed apparels protest brands sion appoint american football player colin kaepernick face new campaign people took social media protest nike hashtags trending twitter kaepernick protested racial injustice kneeling us national anthem \n",
      "Original summary:  start nike customers burn shoes protest face new campaign end \n",
      "Predicted summary:   start nike slammed using shoe shoe shoe end\n",
      "\n"
     ]
    }
   ],
   "source": [
    "# Testing on validation data\n",
    "for i in range(0, 15):\n",
    "    print(f\"# {i+1} News: \", seq2text(x_val_padded[i]))\n",
    "    print(\"Original summary: \", seq2summary(y_val_padded[i]))\n",
    "    print(\n",
    "        \"Predicted summary: \",\n",
    "        decode_sequence_seq2seq_model_with_just_lstm(\n",
    "            x_val_padded[i].reshape(1, max_text_len), encoder_model,\n",
    "            decoder_model\n",
    "        )\n",
    "    )\n",
    "    print()"
   ]
  }
 ],
 "metadata": {
  "kernelspec": {
   "display_name": "Python 3 (ipykernel)",
   "language": "python",
   "name": "python3"
  },
  "language_info": {
   "codemirror_mode": {
    "name": "ipython",
    "version": 3
   },
   "file_extension": ".py",
   "mimetype": "text/x-python",
   "name": "python",
   "nbconvert_exporter": "python",
   "pygments_lexer": "ipython3",
   "version": "3.9.7"
  }
 },
 "nbformat": 4,
 "nbformat_minor": 4
}
